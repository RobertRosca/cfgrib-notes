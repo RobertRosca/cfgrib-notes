{
 "cells": [
  {
   "cell_type": "code",
   "execution_count": 1,
   "metadata": {},
   "outputs": [
    {
     "name": "stderr",
     "output_type": "stream",
     "text": [
      "/home/roscar/environments/cfgrib-python/lib/python3.7/site-packages/xarray/core/merge.py:17: FutureWarning: The Panel class is removed from pandas. Accessing it from the top-level namespace will also be removed in the next version\n",
      "  PANDAS_TYPES = (pd.Series, pd.DataFrame, pd.Panel)\n"
     ]
    }
   ],
   "source": [
    "import cfgrib\n",
    "import matplotlib.pyplot as plt\n",
    "import xarray as xr"
   ]
  },
  {
   "cell_type": "markdown",
   "metadata": {},
   "source": [
    "## Using xarray GRIB engine"
   ]
  },
  {
   "cell_type": "markdown",
   "metadata": {},
   "source": [
    "### Read-only xarray GRIB engine"
   ]
  },
  {
   "cell_type": "code",
   "execution_count": 2,
   "metadata": {},
   "outputs": [
    {
     "data": {
      "text/plain": [
       "<xarray.Dataset>\n",
       "Dimensions:        (isobaricInhPa: 2, latitude: 61, longitude: 120, number: 10, time: 4)\n",
       "Coordinates:\n",
       "  * number         (number) int64 0 1 2 3 4 5 6 7 8 9\n",
       "  * time           (time) datetime64[ns] 2017-01-01 ... 2017-01-02T12:00:00\n",
       "    step           timedelta64[ns] ...\n",
       "  * isobaricInhPa  (isobaricInhPa) int64 850 500\n",
       "  * latitude       (latitude) float64 90.0 87.0 84.0 81.0 ... -84.0 -87.0 -90.0\n",
       "  * longitude      (longitude) float64 0.0 3.0 6.0 9.0 ... 351.0 354.0 357.0\n",
       "    valid_time     (time) datetime64[ns] ...\n",
       "Data variables:\n",
       "    z              (number, time, isobaricInhPa, latitude, longitude) float32 ...\n",
       "    t              (number, time, isobaricInhPa, latitude, longitude) float32 ...\n",
       "Attributes:\n",
       "    GRIB_edition:            1\n",
       "    GRIB_centre:             ecmf\n",
       "    GRIB_centreDescription:  European Centre for Medium-Range Weather Forecasts\n",
       "    GRIB_subCentre:          0\n",
       "    Conventions:             CF-1.7\n",
       "    institution:             European Centre for Medium-Range Weather Forecasts\n",
       "    history:                 2019-12-01T17:58:34 GRIB to CDM+CF via cfgrib-0...."
      ]
     },
     "execution_count": 2,
     "metadata": {},
     "output_type": "execute_result"
    }
   ],
   "source": [
    "ds = xr.open_dataset('./data/era5-levels-members.grib', engine='cfgrib')\n",
    "ds"
   ]
  },
  {
   "cell_type": "code",
   "execution_count": 3,
   "metadata": {},
   "outputs": [
    {
     "data": {
      "text/plain": [
       "Frozen(SortedKeysDict({'number': 10, 'time': 4, 'isobaricInhPa': 2, 'latitude': 61, 'longitude': 120}))"
      ]
     },
     "execution_count": 3,
     "metadata": {},
     "output_type": "execute_result"
    }
   ],
   "source": [
    "ds.dims"
   ]
  },
  {
   "cell_type": "code",
   "execution_count": 4,
   "metadata": {},
   "outputs": [
    {
     "data": {
      "text/plain": [
       "['m**2 s**-2', 'K']"
      ]
     },
     "execution_count": 4,
     "metadata": {},
     "output_type": "execute_result"
    }
   ],
   "source": [
    "[v.units for v in ds.data_vars.values()]"
   ]
  },
  {
   "cell_type": "code",
   "execution_count": 5,
   "metadata": {},
   "outputs": [
    {
     "data": {
      "text/plain": [
       "Coordinates:\n",
       "  * number         (number) int64 0 1 2 3 4 5 6 7 8 9\n",
       "  * time           (time) datetime64[ns] 2017-01-01 ... 2017-01-02T12:00:00\n",
       "    step           timedelta64[ns] ...\n",
       "  * isobaricInhPa  (isobaricInhPa) int64 850 500\n",
       "  * latitude       (latitude) float64 90.0 87.0 84.0 81.0 ... -84.0 -87.0 -90.0\n",
       "  * longitude      (longitude) float64 0.0 3.0 6.0 9.0 ... 351.0 354.0 357.0\n",
       "    valid_time     (time) datetime64[ns] ..."
      ]
     },
     "execution_count": 5,
     "metadata": {},
     "output_type": "execute_result"
    }
   ],
   "source": [
    "ds.coords"
   ]
  },
  {
   "cell_type": "code",
   "execution_count": 6,
   "metadata": {},
   "outputs": [
    {
     "data": {
      "text/plain": [
       "OrderedDict([('GRIB_edition', 1),\n",
       "             ('GRIB_centre', 'ecmf'),\n",
       "             ('GRIB_centreDescription',\n",
       "              'European Centre for Medium-Range Weather Forecasts'),\n",
       "             ('GRIB_subCentre', 0),\n",
       "             ('Conventions', 'CF-1.7'),\n",
       "             ('institution',\n",
       "              'European Centre for Medium-Range Weather Forecasts'),\n",
       "             ('history',\n",
       "              '2019-12-01T17:58:34 GRIB to CDM+CF via cfgrib-0.9.7.3/ecCodes-2.13.1 with {\"source\": \"/home/roscar/work/cfgrib-julia-notebooks/data/era5-levels-members.grib\", \"filter_by_keys\": {}, \"encode_cf\": [\"parameter\", \"time\", \"geography\", \"vertical\"]}')])"
      ]
     },
     "execution_count": 6,
     "metadata": {},
     "output_type": "execute_result"
    }
   ],
   "source": [
    "ds.attrs"
   ]
  },
  {
   "cell_type": "code",
   "execution_count": 7,
   "metadata": {},
   "outputs": [
    {
     "data": {
      "text/plain": [
       "OrderedDict([('GRIB_paramId', 130),\n",
       "             ('GRIB_shortName', 't'),\n",
       "             ('GRIB_units', 'K'),\n",
       "             ('GRIB_name', 'Temperature'),\n",
       "             ('GRIB_cfName', 'air_temperature'),\n",
       "             ('GRIB_cfVarName', 't'),\n",
       "             ('GRIB_dataType', 'an'),\n",
       "             ('GRIB_missingValue', 9999),\n",
       "             ('GRIB_numberOfPoints', 7320),\n",
       "             ('GRIB_totalNumber', 10),\n",
       "             ('GRIB_typeOfLevel', 'isobaricInhPa'),\n",
       "             ('GRIB_NV', 0),\n",
       "             ('GRIB_stepUnits', 1),\n",
       "             ('GRIB_stepType', 'instant'),\n",
       "             ('GRIB_gridType', 'regular_ll'),\n",
       "             ('GRIB_gridDefinitionDescription', 'Latitude/Longitude Grid'),\n",
       "             ('GRIB_Nx', 120),\n",
       "             ('GRIB_iDirectionIncrementInDegrees', 3.0),\n",
       "             ('GRIB_iScansNegatively', 0),\n",
       "             ('GRIB_longitudeOfFirstGridPointInDegrees', 0.0),\n",
       "             ('GRIB_longitudeOfLastGridPointInDegrees', 357.0),\n",
       "             ('GRIB_Ny', 61),\n",
       "             ('GRIB_jDirectionIncrementInDegrees', 3.0),\n",
       "             ('GRIB_jPointsAreConsecutive', 0),\n",
       "             ('GRIB_jScansPositively', 0),\n",
       "             ('GRIB_latitudeOfFirstGridPointInDegrees', 90.0),\n",
       "             ('GRIB_latitudeOfLastGridPointInDegrees', -90.0),\n",
       "             ('long_name', 'Temperature'),\n",
       "             ('units', 'K'),\n",
       "             ('standard_name', 'air_temperature')])"
      ]
     },
     "execution_count": 7,
     "metadata": {},
     "output_type": "execute_result"
    }
   ],
   "source": [
    "ds.t.attrs"
   ]
  },
  {
   "cell_type": "code",
   "execution_count": 8,
   "metadata": {},
   "outputs": [
    {
     "data": {
      "text/plain": [
       "OrderedDict([('GRIB_paramId', 129),\n",
       "             ('GRIB_shortName', 'z'),\n",
       "             ('GRIB_units', 'm**2 s**-2'),\n",
       "             ('GRIB_name', 'Geopotential'),\n",
       "             ('GRIB_cfName', 'geopotential'),\n",
       "             ('GRIB_cfVarName', 'z'),\n",
       "             ('GRIB_dataType', 'an'),\n",
       "             ('GRIB_missingValue', 9999),\n",
       "             ('GRIB_numberOfPoints', 7320),\n",
       "             ('GRIB_totalNumber', 10),\n",
       "             ('GRIB_typeOfLevel', 'isobaricInhPa'),\n",
       "             ('GRIB_NV', 0),\n",
       "             ('GRIB_stepUnits', 1),\n",
       "             ('GRIB_stepType', 'instant'),\n",
       "             ('GRIB_gridType', 'regular_ll'),\n",
       "             ('GRIB_gridDefinitionDescription', 'Latitude/Longitude Grid'),\n",
       "             ('GRIB_Nx', 120),\n",
       "             ('GRIB_iDirectionIncrementInDegrees', 3.0),\n",
       "             ('GRIB_iScansNegatively', 0),\n",
       "             ('GRIB_longitudeOfFirstGridPointInDegrees', 0.0),\n",
       "             ('GRIB_longitudeOfLastGridPointInDegrees', 357.0),\n",
       "             ('GRIB_Ny', 61),\n",
       "             ('GRIB_jDirectionIncrementInDegrees', 3.0),\n",
       "             ('GRIB_jPointsAreConsecutive', 0),\n",
       "             ('GRIB_jScansPositively', 0),\n",
       "             ('GRIB_latitudeOfFirstGridPointInDegrees', 90.0),\n",
       "             ('GRIB_latitudeOfLastGridPointInDegrees', -90.0),\n",
       "             ('long_name', 'Geopotential'),\n",
       "             ('units', 'm**2 s**-2'),\n",
       "             ('standard_name', 'geopotential')])"
      ]
     },
     "execution_count": 8,
     "metadata": {},
     "output_type": "execute_result"
    }
   ],
   "source": [
    "ds.z.attrs"
   ]
  },
  {
   "cell_type": "markdown",
   "metadata": {},
   "source": [
    "### Read arbitrary GRIB keys"
   ]
  },
  {
   "cell_type": "code",
   "execution_count": 9,
   "metadata": {},
   "outputs": [
    {
     "data": {
      "text/plain": [
       "'0001'"
      ]
     },
     "execution_count": 9,
     "metadata": {},
     "output_type": "execute_result"
    }
   ],
   "source": [
    "ds_read_keys = xr.open_dataset('./data/era5-levels-members.grib', engine='cfgrib',\n",
    "                     backend_kwargs={'read_keys': ['experimentVersionNumber']})\n",
    "ds_read_keys.t.attrs['GRIB_experimentVersionNumber']"
   ]
  },
  {
   "cell_type": "code",
   "execution_count": 10,
   "metadata": {},
   "outputs": [
    {
     "data": {
      "text/plain": [
       "OrderedDict([('GRIB_paramId', 130),\n",
       "             ('GRIB_shortName', 't'),\n",
       "             ('GRIB_units', 'K'),\n",
       "             ('GRIB_name', 'Temperature'),\n",
       "             ('GRIB_cfName', 'air_temperature'),\n",
       "             ('GRIB_cfVarName', 't'),\n",
       "             ('GRIB_dataType', 'an'),\n",
       "             ('GRIB_missingValue', 9999),\n",
       "             ('GRIB_numberOfPoints', 7320),\n",
       "             ('GRIB_totalNumber', 10),\n",
       "             ('GRIB_typeOfLevel', 'isobaricInhPa'),\n",
       "             ('GRIB_NV', 0),\n",
       "             ('GRIB_stepUnits', 1),\n",
       "             ('GRIB_stepType', 'instant'),\n",
       "             ('GRIB_gridType', 'regular_ll'),\n",
       "             ('GRIB_gridDefinitionDescription', 'Latitude/Longitude Grid'),\n",
       "             ('GRIB_Nx', 120),\n",
       "             ('GRIB_iDirectionIncrementInDegrees', 3.0),\n",
       "             ('GRIB_iScansNegatively', 0),\n",
       "             ('GRIB_longitudeOfFirstGridPointInDegrees', 0.0),\n",
       "             ('GRIB_longitudeOfLastGridPointInDegrees', 357.0),\n",
       "             ('GRIB_Ny', 61),\n",
       "             ('GRIB_jDirectionIncrementInDegrees', 3.0),\n",
       "             ('GRIB_jPointsAreConsecutive', 0),\n",
       "             ('GRIB_jScansPositively', 0),\n",
       "             ('GRIB_latitudeOfFirstGridPointInDegrees', 90.0),\n",
       "             ('GRIB_latitudeOfLastGridPointInDegrees', -90.0),\n",
       "             ('GRIB_experimentVersionNumber', '0001'),\n",
       "             ('long_name', 'Temperature'),\n",
       "             ('units', 'K'),\n",
       "             ('standard_name', 'air_temperature')])"
      ]
     },
     "execution_count": 10,
     "metadata": {},
     "output_type": "execute_result"
    }
   ],
   "source": [
    "ds_read_keys.t.attrs"
   ]
  },
  {
   "cell_type": "code",
   "execution_count": 11,
   "metadata": {},
   "outputs": [
    {
     "data": {
      "text/plain": [
       "{'GRIB_experimentVersionNumber'}"
      ]
     },
     "execution_count": 11,
     "metadata": {},
     "output_type": "execute_result"
    }
   ],
   "source": [
    "#  Arbitrary key added in:\n",
    "set(ds_read_keys.t.attrs.keys()) - set(ds.t.attrs.keys())"
   ]
  },
  {
   "cell_type": "markdown",
   "metadata": {},
   "source": [
    "### Translate to a custom data model"
   ]
  },
  {
   "cell_type": "code",
   "execution_count": 12,
   "metadata": {},
   "outputs": [
    {
     "data": {
      "text/plain": [
       "<xarray.Dataset>\n",
       "Dimensions:     (latitude: 61, level: 2, longitude: 120, number: 10, time: 4)\n",
       "Coordinates:\n",
       "  * number      (number) int64 0 1 2 3 4 5 6 7 8 9\n",
       "  * time        (time) datetime64[ns] 2017-01-01 ... 2017-01-02T12:00:00\n",
       "    step        timedelta64[ns] ...\n",
       "  * level       (level) int64 850 500\n",
       "  * latitude    (latitude) float64 90.0 87.0 84.0 81.0 ... -84.0 -87.0 -90.0\n",
       "  * longitude   (longitude) float64 0.0 3.0 6.0 9.0 ... 348.0 351.0 354.0 357.0\n",
       "    valid_time  (time) datetime64[ns] ...\n",
       "Data variables:\n",
       "    z           (number, time, level, latitude, longitude) float32 ...\n",
       "    t           (number, time, level, latitude, longitude) float32 ...\n",
       "Attributes:\n",
       "    GRIB_edition:            1\n",
       "    GRIB_centre:             ecmf\n",
       "    GRIB_centreDescription:  European Centre for Medium-Range Weather Forecasts\n",
       "    GRIB_subCentre:          0\n",
       "    Conventions:             CF-1.7\n",
       "    institution:             European Centre for Medium-Range Weather Forecasts\n",
       "    history:                 2019-12-01T17:58:34 GRIB to CDM+CF via cfgrib-0...."
      ]
     },
     "execution_count": 12,
     "metadata": {},
     "output_type": "execute_result"
    }
   ],
   "source": [
    "import cf2cdm\n",
    "ds = xr.open_dataset('./data/era5-levels-members.grib', engine='cfgrib')\n",
    "cf2cdm.translate_coords(ds, cf2cdm.ECMWF)"
   ]
  },
  {
   "cell_type": "code",
   "execution_count": 13,
   "metadata": {},
   "outputs": [
    {
     "data": {
      "text/plain": [
       "{'depthBelowLand': {'out_name': 'level',\n",
       "  'units': 'm',\n",
       "  'stored_direction': 'increasing'},\n",
       " 'isobaricInhPa': {'out_name': 'level',\n",
       "  'units': 'hPa',\n",
       "  'stored_direction': 'decreasing'},\n",
       " 'isobaricInPa': {'out_name': 'level',\n",
       "  'units': 'hPa',\n",
       "  'stored_direction': 'decreasing'},\n",
       " 'hybrid': {'out_name': 'level', 'stored_direction': 'increasing'}}"
      ]
     },
     "execution_count": 13,
     "metadata": {},
     "output_type": "execute_result"
    }
   ],
   "source": [
    "cf2cdm.ECMWF"
   ]
  },
  {
   "cell_type": "code",
   "execution_count": 14,
   "metadata": {},
   "outputs": [
    {
     "data": {
      "text/plain": [
       "{'latitude': {'out_name': 'lat', 'stored_direction': 'increasing'},\n",
       " 'longitude': {'out_name': 'lon', 'stored_direction': 'increasing'},\n",
       " 'depthBelowLand': {'out_name': 'depth',\n",
       "  'units': 'm',\n",
       "  'stored_direction': 'increasing'},\n",
       " 'isobaricInhPa': {'out_name': 'plev',\n",
       "  'units': 'Pa',\n",
       "  'stored_direction': 'decreasing'},\n",
       " 'number': {'out_name': 'realization', 'stored_direction': 'increasing'},\n",
       " 'time': {'out_name': 'forecast_reference_time',\n",
       "  'stored_direction': 'increasing'},\n",
       " 'valid_time': {'out_name': 'time', 'stored_direction': 'increasing'},\n",
       " 'step': {'out_name': 'leadtime', 'stored_direction': 'increasing'},\n",
       " 'config': {'preferred_time_dimension': 'valid_time'}}"
      ]
     },
     "execution_count": 14,
     "metadata": {},
     "output_type": "execute_result"
    }
   ],
   "source": [
    "cf2cdm.CDS"
   ]
  },
  {
   "cell_type": "markdown",
   "metadata": {},
   "source": [
    "### Filter heterogeneous GRIB files"
   ]
  },
  {
   "cell_type": "code",
   "execution_count": 15,
   "metadata": {},
   "outputs": [
    {
     "name": "stdout",
     "output_type": "stream",
     "text": [
      "multiple values for unique key, try re-open the file with one of:\n",
      "    filter_by_keys={'typeOfLevel': 'meanSea'}\n",
      "    filter_by_keys={'typeOfLevel': 'surface'}\n",
      "    filter_by_keys={'typeOfLevel': 'isobaricInhPa'}\n",
      "    filter_by_keys={'typeOfLevel': 'heightAboveGround'}\n",
      "    filter_by_keys={'typeOfLevel': 'unknown'}\n",
      "    filter_by_keys={'typeOfLevel': 'cloudBase'}\n",
      "    filter_by_keys={'typeOfLevel': 'cloudTop'}\n",
      "    filter_by_keys={'typeOfLevel': 'heightAboveGroundLayer'}\n",
      "    filter_by_keys={'typeOfLevel': 'tropopause'}\n",
      "    filter_by_keys={'typeOfLevel': 'maxWind'}\n",
      "    filter_by_keys={'typeOfLevel': 'isothermZero'}\n",
      "    filter_by_keys={'typeOfLevel': 'pressureFromGroundLayer'}\n"
     ]
    }
   ],
   "source": [
    "#  Errors as `typeOfLevel` has multiple values\n",
    "try:\n",
    "    xr.open_dataset('./data/nam.t00z.awp21100.tm00.grib2', engine='cfgrib')\n",
    "except cfgrib.DatasetBuildError as e:\n",
    "    print(e)"
   ]
  },
  {
   "cell_type": "code",
   "execution_count": 16,
   "metadata": {},
   "outputs": [
    {
     "data": {
      "text/plain": [
       "<xarray.Dataset>\n",
       "Dimensions:     (x: 93, y: 65)\n",
       "Coordinates:\n",
       "    time        datetime64[ns] ...\n",
       "    step        timedelta64[ns] ...\n",
       "    surface     int64 ...\n",
       "    latitude    (y, x) float64 ...\n",
       "    longitude   (y, x) float64 ...\n",
       "    valid_time  datetime64[ns] ...\n",
       "Dimensions without coordinates: x, y\n",
       "Data variables:\n",
       "    gust        (y, x) float32 ...\n",
       "    sp          (y, x) float32 ...\n",
       "    orog        (y, x) float32 ...\n",
       "    tp          (y, x) float32 ...\n",
       "    acpcp       (y, x) float32 ...\n",
       "    csnow       (y, x) float32 ...\n",
       "    cicep       (y, x) float32 ...\n",
       "    cfrzr       (y, x) float32 ...\n",
       "    crain       (y, x) float32 ...\n",
       "    cape        (y, x) float32 ...\n",
       "    cin         (y, x) float32 ...\n",
       "    hpbl        (y, x) float32 ...\n",
       "Attributes:\n",
       "    GRIB_edition:            2\n",
       "    GRIB_centre:             kwbc\n",
       "    GRIB_centreDescription:  US National Weather Service - NCEP \n",
       "    GRIB_subCentre:          0\n",
       "    Conventions:             CF-1.7\n",
       "    institution:             US National Weather Service - NCEP \n",
       "    history:                 2019-12-01T17:58:34 GRIB to CDM+CF via cfgrib-0...."
      ]
     },
     "execution_count": 16,
     "metadata": {},
     "output_type": "execute_result"
    }
   ],
   "source": [
    "xr.open_dataset('./data/nam.t00z.awp21100.tm00.grib2', engine='cfgrib',\n",
    "    backend_kwargs={'filter_by_keys': {'typeOfLevel': 'surface'}})"
   ]
  },
  {
   "cell_type": "code",
   "execution_count": 17,
   "metadata": {},
   "outputs": [
    {
     "data": {
      "text/plain": [
       "<xarray.Dataset>\n",
       "Dimensions:            (x: 93, y: 65)\n",
       "Coordinates:\n",
       "    time               datetime64[ns] ...\n",
       "    step               timedelta64[ns] ...\n",
       "    heightAboveGround  int64 ...\n",
       "    latitude           (y, x) float64 ...\n",
       "    longitude          (y, x) float64 ...\n",
       "    valid_time         datetime64[ns] ...\n",
       "Dimensions without coordinates: x, y\n",
       "Data variables:\n",
       "    t2m                (y, x) float32 ...\n",
       "    r2                 (y, x) float32 ...\n",
       "Attributes:\n",
       "    GRIB_edition:            2\n",
       "    GRIB_centre:             kwbc\n",
       "    GRIB_centreDescription:  US National Weather Service - NCEP \n",
       "    GRIB_subCentre:          0\n",
       "    Conventions:             CF-1.7\n",
       "    institution:             US National Weather Service - NCEP \n",
       "    history:                 2019-12-01T17:58:34 GRIB to CDM+CF via cfgrib-0...."
      ]
     },
     "execution_count": 17,
     "metadata": {},
     "output_type": "execute_result"
    }
   ],
   "source": [
    "xr.open_dataset('./data/nam.t00z.awp21100.tm00.grib2', engine='cfgrib',\n",
    "    backend_kwargs={'filter_by_keys': {'typeOfLevel': 'heightAboveGround', 'level': 2}})"
   ]
  },
  {
   "cell_type": "markdown",
   "metadata": {},
   "source": [
    "### Automatic filtering"
   ]
  },
  {
   "cell_type": "code",
   "execution_count": 18,
   "metadata": {},
   "outputs": [
    {
     "name": "stderr",
     "output_type": "stream",
     "text": [
      "Ignoring index file './data/nam.t00z.awp21100.tm00.grib2.88a63.idx' incompatible with GRIB file\n"
     ]
    },
    {
     "data": {
      "text/plain": [
       "17"
      ]
     },
     "execution_count": 18,
     "metadata": {},
     "output_type": "execute_result"
    }
   ],
   "source": [
    "import warnings\n",
    "\n",
    "def fxn():\n",
    "    warnings.warn(\"deprecated\", DeprecationWarning)\n",
    "\n",
    "with warnings.catch_warnings():\n",
    "    warnings.simplefilter(\"ignore\")\n",
    "    ds = cfgrib.open_datasets('./data/nam.t00z.awp21100.tm00.grib2')\n",
    "\n",
    "len(ds)"
   ]
  },
  {
   "cell_type": "code",
   "execution_count": 19,
   "metadata": {},
   "outputs": [
    {
     "data": {
      "text/plain": [
       "Frozen(OrderedDict([('time', <xarray.Variable ()>\n",
       "array('2018-09-17T00:00:00.000000000', dtype='datetime64[ns]')\n",
       "Attributes:\n",
       "    long_name:      initial time of forecast\n",
       "    standard_name:  forecast_reference_time), ('step', <xarray.Variable ()>\n",
       "array(0, dtype='timedelta64[ns]')\n",
       "Attributes:\n",
       "    long_name:      time since forecast_reference_time\n",
       "    standard_name:  forecast_period), ('cloudBase', <xarray.Variable ()>\n",
       "array(0)\n",
       "Attributes:\n",
       "    long_name:  original GRIB coordinate for key: level(cloudBase)\n",
       "    units:      1), ('latitude', <xarray.Variable (y: 65, x: 93)>\n",
       "array([[12.19    , 12.387934, 12.582455, ..., 14.641772, 14.490049, 14.334642],\n",
       "       [12.875473, 13.074936, 13.270955, ..., 15.345906, 15.193047, 15.036472],\n",
       "       [13.562325, 13.763305, 13.960813, ..., 16.051287, 15.897298, 15.739565],\n",
       "       ...,\n",
       "       [53.386602, 53.642984, 53.894463, ..., 56.527197, 56.335087, 56.138003],\n",
       "       [53.963514, 54.220063, 54.471695, ..., 57.105416, 56.913274, 56.71615 ],\n",
       "       [54.535803, 54.792495, 55.044257, ..., 57.678704, 57.486548, 57.289404]])\n",
       "Attributes:\n",
       "    units:          degrees_north\n",
       "    standard_name:  latitude\n",
       "    long_name:      latitude), ('longitude', <xarray.Variable (y: 65, x: 93)>\n",
       "array([[226.541   , 227.2426  , 227.946282, ..., 293.457914, 294.184168,\n",
       "        294.908725],\n",
       "       [226.335702, 227.040644, 227.747701, ..., 293.613653, 294.343634,\n",
       "        295.071891],\n",
       "       [226.128261, 226.836574, 227.547033, ..., 293.77108 , 294.504825,\n",
       "        295.236818],\n",
       "       ...,\n",
       "       [208.025102, 208.999347, 209.979768, ..., 307.79257 , 308.842691,\n",
       "        309.887388],\n",
       "       [207.587993, 208.567889, 209.554087, ..., 308.139063, 309.19647 ,\n",
       "        310.248331],\n",
       "       [207.144541, 208.130128, 209.122147, ..., 308.491018, 309.555797,\n",
       "        310.614903]])\n",
       "Attributes:\n",
       "    units:          degrees_east\n",
       "    standard_name:  longitude\n",
       "    long_name:      longitude), ('valid_time', <xarray.Variable ()>\n",
       "array('2018-09-17T00:00:00.000000000', dtype='datetime64[ns]')\n",
       "Attributes:\n",
       "    standard_name:  time\n",
       "    long_name:      time)]))"
      ]
     },
     "execution_count": 19,
     "metadata": {},
     "output_type": "execute_result"
    }
   ],
   "source": [
    "ds[0].coords.variables"
   ]
  }
 ],
 "metadata": {
  "kernelspec": {
   "display_name": "Python 3",
   "language": "python",
   "name": "python3"
  },
  "language_info": {
   "codemirror_mode": {
    "name": "ipython",
    "version": 3
   },
   "file_extension": ".py",
   "mimetype": "text/x-python",
   "name": "python",
   "nbconvert_exporter": "python",
   "pygments_lexer": "ipython3",
   "version": "3.7.4"
  }
 },
 "nbformat": 4,
 "nbformat_minor": 4
}
