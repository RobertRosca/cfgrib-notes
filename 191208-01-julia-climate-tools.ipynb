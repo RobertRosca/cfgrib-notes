{
 "cells": [
  {
   "cell_type": "markdown",
   "metadata": {},
   "source": [
    " - [ClimateTools.jl](https://github.com/Balinus/ClimateTools.jl)\n",
    " - [GRIB.jl](https://github.com/weech/GRIB.jl)\n",
    " - [GDAL.jl](https://github.com/JuliaGeo/GDAL.jl)\n",
    " - [ArchGDAL.jl](https://github.com/yeesian/ArchGDAL.jl)\n",
    " - [ICOADSDict](https://github.com/JuliaAtmosOcean/ICOADSDict.jl)"
   ]
  }
 ],
 "metadata": {
  "kernelspec": {
   "display_name": "Julia 1.2.0",
   "language": "julia",
   "name": "julia-1.2"
  },
  "language_info": {
   "file_extension": ".jl",
   "mimetype": "application/julia",
   "name": "julia",
   "version": "1.2.0"
  }
 },
 "nbformat": 4,
 "nbformat_minor": 4
}
