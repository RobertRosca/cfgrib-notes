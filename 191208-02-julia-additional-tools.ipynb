{
 "cells": [
  {
   "cell_type": "markdown",
   "metadata": {},
   "source": [
    "Additionally it is interesting to look at:\n",
    "\n",
    " - [ ] [JuliaIO](https://github.com/JuliaIO) \n",
    "     - Group of packages which access various file types in a unified way\n",
    " - [ ] [JuliaDB](https://github.com/JuliaComputing/JuliaDB.jl)\n",
    "     - Provides scalable data analysis similar to Dask\n",
    " - [ ] [Unitful.jl](https://github.com/PainterQubits/Unitful.jl)\n",
    "     - Could be used to add units to the data itself"
   ]
  }
 ],
 "metadata": {
  "kernelspec": {
   "display_name": "Julia 1.2.0",
   "language": "julia",
   "name": "julia-1.2"
  },
  "language_info": {
   "file_extension": ".jl",
   "mimetype": "application/julia",
   "name": "julia",
   "version": "1.2.0"
  }
 },
 "nbformat": 4,
 "nbformat_minor": 4
}
