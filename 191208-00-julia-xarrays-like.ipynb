{
 "cells": [
  {
   "cell_type": "code",
   "execution_count": 1,
   "metadata": {},
   "outputs": [
    {
     "name": "stdout",
     "output_type": "stream",
     "text": [
      "\u001b[32m\u001b[1mActivating\u001b[22m\u001b[39m environment at `~/work/cfgrib-julia-notebooks/binder/Project.toml`\n"
     ]
    }
   ],
   "source": [
    "using Pkg; Pkg.activate(\"./binder/\")"
   ]
  },
  {
   "cell_type": "markdown",
   "metadata": {},
   "source": [
    "# Intro\n",
    "\n",
    "This notebook explores a number of Julia packages which provide similar functionality to `xarrays` in python.\n",
    "\n",
    "The main packages to be explored are:\n",
    "\n",
    " - [x] [AxisArrays](https://github.com/JuliaArrays/AxisArrays.jl)\n",
    " - [x] [NamedArrays](https://github.com/davidavdav/NamedArrays.jl)\n",
    " - [x] [Images](https://github.com/JuliaImages/Images.jl) (combines [AxisArrays](https://github.com/JuliaArrays/AxisArrays.jl) and [SimpleTraits](https://github.com/mauro3/SimpleTraits.jl))\n",
    "\n",
    "There are a number of additional options which were not looked at extensively:\n",
    "\n",
    " - [NamedDims.jl](https://github.com/invenia/NamedDims.jl)\n",
    "    - Very nice package, similar to xarray in notation\n",
    "    - Supported by invenia so it (should) be maintained in the future\n",
    "    - Not used much in the community - \"it's not used much so we also shouldn't use it\" is an annoyingly circular argument, but for the sake of picking something likely to become a community standard this currently does not seem like the best option\n",
    " - [DimensionalData.jl](https://github.com/rafaqz/DimensionalData.jl)\n",
    "    - Also very nice, more generalised than AxisArrays, with a syntax I prefer\n",
    "    - Written for and used in [GeoData.jl](https://github.com/rafaqz/GeoData.jl)\n",
    "    - Main reservation is that it is not stable yet - \"This is a work in progress under active development, it may be a while before the interface stabilises and things are fully documented.\"\n",
    " - [ITensors.jl](https://github.com/ITensor/ITensors.jl)\n",
    "    - Not very similar to xarray\n",
    "    - Allows for some very cool tricks\n",
    "    - However again the problem is stability - \"PLEASE NOTE THIS IS PRE-RELEASE SOFTWARE FOR PREVIEW PURPOSES ONLY\""
   ]
  },
  {
   "cell_type": "markdown",
   "metadata": {},
   "source": [
    "## Conclusion\n",
    "\n",
    "`AxisArrays` seems to be the way to go. It is, in theory, more performant than the `NamedArrays` (the main alternative) and is more popular in the community as well.\n",
    "\n",
    "Currently `AxisArrays` does not have support for metadata (attributes) however this is, for the most part, easy to add in. Some work on this has already been done by the `ImageMetadata.jl` (which attaches a dictionary of metadata to the array) and `ImageAxes.jl` (integrates `SimpleTraits`\\* to both the coordinates and the data) packages.\n",
    "\n",
    "As Julia is a young language no standards have really been adopted by the community yet. There is a risk that `AsixArrays` could stop being maintained in the future, or that it will undergo large changes breaking backwards compatibility. There are already some discussions about large changes to the package, however these are very long-term plans and (hopefully) should not lead do any breaking changes.† Risks like these are largely unavoidable when working with a new language.\n",
    "\n",
    "My proposal would be to:\n",
    " - Build on top of `AxisArrays.jl`\n",
    " - Add in support for metadata - either with a basic dict in a wrapper, or by using `ImageMetadata.jl`\n",
    "    - Likely better to use my own wrapper to avoid confusion\n",
    "    - Additional requirement of having different levels of metadata: global ones (e.g. DataSet) level, and local metadata (e.g. attached to DataArray) would have to be added in anyway\n",
    " - Look at real-life use cases of cfgrib and see if integration with `SimpleTraits` would be beneficial\n",
    "\n",
    "------------------------\n",
    "\n",
    "\\* [SimpleTraits.jl](https://github.com/mauro3/SimpleTraits.jl) allows you to add a type to a variable after it has been created, this lets you do some tricks which can improve performance, code readability, and make some operations easier. Short intro here: [Mauro Werder: Interfaces for Julia -Traits.jl](https://www.youtube.com/watch?v=j9w8oHfG1Ic&feature=youtu.be)\n",
    "\n",
    "† [AxisArrays Roadmap](https://github.com/JuliaArrays/AxisArrays.jl/issues/7), [AxisArrays Issue: Use value indexing by default](https://github.com/JuliaArrays/AxisArrays.jl/issues/84), [AxisArraysFuture Plan](https://github.com/JuliaCollections/AxisArraysFuture/issues/1),"
   ]
  },
  {
   "cell_type": "markdown",
   "metadata": {},
   "source": [
    "## PyCall - Loading cfgrib example data\n",
    "\n",
    "Define some basic wrapper functions to read in data via python calls to cfgrib and convert it to Julia dictionaries\n",
    "\n",
    "These dictionaries can then be used to attempt to re-create the python xarrays"
   ]
  },
  {
   "cell_type": "code",
   "execution_count": 2,
   "metadata": {},
   "outputs": [],
   "source": [
    "using DataStructures\n",
    "using Dates"
   ]
  },
  {
   "cell_type": "code",
   "execution_count": 3,
   "metadata": {},
   "outputs": [
    {
     "data": {
      "text/plain": [
       "PyObject <module 'cfgrib' from '/home/roscar/environments/cfgrib-python/lib/python3.7/site-packages/cfgrib/__init__.py'>"
      ]
     },
     "execution_count": 3,
     "metadata": {},
     "output_type": "execute_result"
    }
   ],
   "source": [
    "using PyCall\n",
    "\n",
    "cfgrib = pyimport(\"cfgrib\")"
   ]
  },
  {
   "cell_type": "markdown",
   "metadata": {},
   "source": [
    "### Conversions"
   ]
  },
  {
   "cell_type": "code",
   "execution_count": 4,
   "metadata": {},
   "outputs": [
    {
     "data": {
      "text/plain": [
       "convert (generic function with 232 methods)"
      ]
     },
     "execution_count": 4,
     "metadata": {},
     "output_type": "execute_result"
    }
   ],
   "source": [
    "import Base.convert\n",
    "\n",
    "function convert(::Type{DateTime}, np_datetime::PyObject)\n",
    "    \"\"\"Converts python numpy `datetime64[ns]` to Julia `DateTime`\n",
    "    \"\"\"\n",
    "    data = np_datetime.tolist()\n",
    "\n",
    "    epoch_start = Dates.datetime2epochms(DateTime(\"1970-01-01T00:00:00\"))\n",
    "    data = [Dates.epochms2datetime(d*1e-6 + epoch_start) for d in data]\n",
    "\n",
    "    return data\n",
    "end\n",
    "\n",
    "function convert(::Type{Nanosecond}, np_datetime::PyObject)\n",
    "    \"\"\"Converts python numpy `timedelta64[ns]` to Julia `Dates.Nanosecond`\n",
    "    \"\"\"\n",
    "    data = np_datetime.tolist()\n",
    "    \n",
    "    data = [Dates.Nanosecond(d) for d in data]\n",
    "    \n",
    "    return data\n",
    "end\n",
    "\n",
    "function convert(::Type{Dates.AbstractDateTime}, np_datetime::PyObject)\n",
    "    \"\"\"Dispatches PyObject Date conversion to either `DateTime` or `Nanosecond`\n",
    "    based on the `dtype` value of the `PyObject`\n",
    "    \"\"\"\n",
    "    @assert np_datetime.dtype.str in (\"<M8[ns]\", \"<m8[ns]\")\n",
    "    \n",
    "    if np_datetime.dtype.str == \"<M8[ns]\" #  M8 is for times from epoch\n",
    "        return convert(DateTime, np_datetime)\n",
    "    elseif np_datetime.dtype.str == \"<m8[ns]\" #  m8 is for time delta\n",
    "        return convert(Nanosecond, np_datetime)\n",
    "    end\n",
    "end"
   ]
  },
  {
   "cell_type": "code",
   "execution_count": 5,
   "metadata": {},
   "outputs": [
    {
     "data": {
      "text/plain": [
       "OrderedDict{Any,Any} with 7 entries:\n",
       "  \"number\"        => [0, 1, 2, 3, 4, 5, 6, 7, 8, 9]\n",
       "  \"time\"          => DateTime[2017-01-01T00:00:00, 2017-01-01T12:00:00, 2017-01…\n",
       "  \"step\"          => 0 nanoseconds\n",
       "  \"isobaricInhPa\" => [850, 500]\n",
       "  \"latitude\"      => [90.0, 87.0, 84.0, 81.0, 78.0, 75.0, 72.0, 69.0, 66.0, 63.…\n",
       "  \"longitude\"     => [0.0, 3.0, 6.0, 9.0, 12.0, 15.0, 18.0, 21.0, 24.0, 27.0  ……\n",
       "  \"valid_time\"    => DateTime[2017-01-01T00:00:00, 2017-01-01T12:00:00, 2017-01…"
      ]
     },
     "execution_count": 5,
     "metadata": {},
     "output_type": "execute_result"
    }
   ],
   "source": [
    "function python_cfgrib_coords(cfgrib_ds::PyObject, data_variable::String)\n",
    "    coordinates = OrderedDict()\n",
    "    for (name, value) in cfgrib_ds.coords.items()\n",
    "        coord_values = value.values\n",
    "        if typeof(coord_values) == PyObject\n",
    "            #  If automatic conversion failed it's (probably) a numpy\n",
    "            #  datetime64[ns] or timedelta[ns] value\n",
    "            coord_values = convert(Dates.AbstractDateTime, coord_values)\n",
    "        end\n",
    "        coordinates[name] = coord_values\n",
    "    end\n",
    "\n",
    "    return coordinates\n",
    "end\n",
    "\n",
    "function python_cfgrib_coords(path::String, data_variable::String)\n",
    "    cfgrib_ds = cfgrib.open_dataset(path)\n",
    "    return python_cfgrib_coords(cfgrib_ds, data_variable)\n",
    "end\n",
    "\n",
    "cfgrib_coords = python_cfgrib_coords(\"./data/era5-levels-members.grib\", \"t\")"
   ]
  },
  {
   "cell_type": "code",
   "execution_count": 6,
   "metadata": {},
   "outputs": [
    {
     "name": "stdout",
     "output_type": "stream",
     "text": [
      "(10, 4, 2, 61, 120)\n"
     ]
    }
   ],
   "source": [
    "function python_cfgrib_data(cfgrib_ds::PyObject, data_variable::String)\n",
    "    python_shape = cfgrib_ds.get(data_variable).shape\n",
    "    values = cfgrib_ds.get(data_variable).values\n",
    "    \n",
    "    @assert python_shape == size(values)\n",
    "    \n",
    "    return values\n",
    "end\n",
    "\n",
    "function python_cfgrib_data(path::String, data_variable::String)\n",
    "    cfgrib_ds = cfgrib.open_dataset(path)\n",
    "\n",
    "    return python_cfgrib_data(cfgrib_ds, data_variable)\n",
    "end\n",
    "\n",
    "cfgrib_data = python_cfgrib_data(\"./data/era5-levels-members.grib\", \"t\")\n",
    "\n",
    "println(size(cfgrib_data))"
   ]
  },
  {
   "cell_type": "code",
   "execution_count": 7,
   "metadata": {},
   "outputs": [
    {
     "data": {
      "text/plain": [
       "Array{Float32,5}"
      ]
     },
     "execution_count": 7,
     "metadata": {},
     "output_type": "execute_result"
    }
   ],
   "source": [
    "typeof(cfgrib_data)"
   ]
  },
  {
   "cell_type": "code",
   "execution_count": 8,
   "metadata": {},
   "outputs": [
    {
     "data": {
      "text/plain": [
       "OrderedDict{Any,Any} with 30 entries:\n",
       "  \"GRIB_units\"                             => \"K\"\n",
       "  \"long_name\"                              => \"Temperature\"\n",
       "  \"GRIB_dataType\"                          => \"an\"\n",
       "  \"GRIB_totalNumber\"                       => 10\n",
       "  \"GRIB_jScansPositively\"                  => 0\n",
       "  \"GRIB_name\"                              => \"Temperature\"\n",
       "  \"GRIB_gridType\"                          => \"regular_ll\"\n",
       "  \"GRIB_Ny\"                                => 61\n",
       "  \"GRIB_longitudeOfLastGridPointInDegrees\" => 357.0\n",
       "  \"GRIB_stepUnits\"                         => 1\n",
       "  \"GRIB_jPointsAreConsecutive\"             => 0\n",
       "  \"standard_name\"                          => \"air_temperature\"\n",
       "  \"GRIB_jDirectionIncrementInDegrees\"      => 3.0\n",
       "  \"GRIB_gridDefinitionDescription\"         => \"Latitude/Longitude Grid\"\n",
       "  \"GRIB_latitudeOfLastGridPointInDegrees\"  => -90.0\n",
       "  \"GRIB_shortName\"                         => \"t\"\n",
       "  \"GRIB_missingValue\"                      => 9999\n",
       "  \"GRIB_stepType\"                          => \"instant\"\n",
       "  \"GRIB_numberOfPoints\"                    => 7320\n",
       "  \"GRIB_NV\"                                => 0\n",
       "  \"GRIB_latitudeOfFirstGridPointInDegrees\" => 90.0\n",
       "  \"GRIB_cfName\"                            => \"air_temperature\"\n",
       "  \"units\"                                  => \"K\"\n",
       "  \"GRIB_cfVarName\"                         => \"t\"\n",
       "  \"GRIB_Nx\"                                => 120\n",
       "  ⋮                                        => ⋮"
      ]
     },
     "execution_count": 8,
     "metadata": {},
     "output_type": "execute_result"
    }
   ],
   "source": [
    "python_cfgrib_metadata(cfgrib_ds::PyObject, data_variable::String) = cfgrib_ds.get(data_variable).attrs\n",
    "\n",
    "function python_cfgrib_metadata(path::String, data_variable::String)\n",
    "    cfgrib_ds = cfgrib.open_dataset(path)\n",
    "    \n",
    "    return OrderedDict(python_cfgrib_metadata(cfgrib_ds, data_variable))\n",
    "end\n",
    "\n",
    "cfgrib_meta = python_cfgrib_metadata(\"./data/era5-levels-members.grib\", \"t\")"
   ]
  },
  {
   "cell_type": "code",
   "execution_count": 9,
   "metadata": {},
   "outputs": [],
   "source": [
    "function python_cfgrib_load(path::String, data_variable::String)\n",
    "    cfgrib_ds = cfgrib.open_dataset(path)\n",
    "    \n",
    "    coords = python_cfgrib_coords(cfgrib_ds, data_variable)\n",
    "    data   = python_cfgrib_data(cfgrib_ds, data_variable)\n",
    "    meta   = python_cfgrib_metadata(cfgrib_ds, data_variable)\n",
    "    \n",
    "    return (data=data, coords=coords, meta=meta)\n",
    "end\n",
    "\n",
    "cfgrib_xarray_data = python_cfgrib_load(\"./data/era5-levels-members.grib\", \"t\");"
   ]
  },
  {
   "cell_type": "markdown",
   "metadata": {},
   "source": [
    "## AxisArrays\n",
    "\n",
    "> This package for the Julia language provides an array type (the AxisArray) that knows about its dimension names and axis values. This allows for indexing with the axis name without incurring any runtime overhead. AxisArrays can also be indexed by the values of their axes, allowing column names or interval selections. This permits one to implement algorithms that are oblivious to the storage order of the underlying arrays. In contrast to similar approaches in Images.jl and NamedArrays.jl, **this allows for type-stable selection of dimensions and compile-time axis lookup**. It is also better suited for regularly sampled axes, like samples over time.\n",
    "\n",
    "**NOTE**: There are ongoing extensive discussion about implementing large changes to AxisArrays in the future due to some limitations caused by the current architecture of the package. These changes should end up being mostly internal, meaning that packages depending on AxisArrays should not have to change much (if at all) to be compatible with future versions. The discussions are spread across these issues on GitHub: [AxisArrays Roadmap](https://github.com/JuliaArrays/AxisArrays.jl/issues/7), [AxisArrays Issue: Use value indexing by default](https://github.com/JuliaArrays/AxisArrays.jl/issues/84), [AxisArraysFuture Plan](https://github.com/JuliaCollections/AxisArraysFuture/issues/1),"
   ]
  },
  {
   "cell_type": "code",
   "execution_count": 10,
   "metadata": {},
   "outputs": [],
   "source": [
    "using AxisArrays"
   ]
  },
  {
   "cell_type": "code",
   "execution_count": 11,
   "metadata": {},
   "outputs": [
    {
     "data": {
      "text/plain": [
       "1-dimensional AxisArray{Int64,1,...} with axes:\n",
       "    :row, Base.OneTo(5)\n",
       "And data, a 5-element StepRange{Int64,Int64}:\n",
       " 1\n",
       " 3\n",
       " 5\n",
       " 7\n",
       " 9"
      ]
     },
     "execution_count": 11,
     "metadata": {},
     "output_type": "execute_result"
    }
   ],
   "source": [
    "AxisArray(1:2:10) #  AxisArray with unnamed axis"
   ]
  },
  {
   "cell_type": "code",
   "execution_count": 12,
   "metadata": {},
   "outputs": [
    {
     "data": {
      "text/plain": [
       "1-dimensional AxisArray{Int64,1,...} with axes:\n",
       "    :time, 0:4\n",
       "And data, a 5-element StepRange{Int64,Int64}:\n",
       " 1\n",
       " 3\n",
       " 5\n",
       " 7\n",
       " 9"
      ]
     },
     "execution_count": 12,
     "metadata": {},
     "output_type": "execute_result"
    }
   ],
   "source": [
    "AxisArray(1:2:10, Axis{:time}(0:4)) #  AxisArray with a single named axis"
   ]
  },
  {
   "cell_type": "code",
   "execution_count": 13,
   "metadata": {},
   "outputs": [
    {
     "data": {
      "text/plain": [
       "OrderedDict{Any,Any} with 7 entries:\n",
       "  \"number\"        => [0, 1, 2, 3, 4, 5, 6, 7, 8, 9]\n",
       "  \"time\"          => DateTime[2017-01-01T00:00:00, 2017-01-01T12:00:00, 2017-01…\n",
       "  \"step\"          => 0 nanoseconds\n",
       "  \"isobaricInhPa\" => [850, 500]\n",
       "  \"latitude\"      => [90.0, 87.0, 84.0, 81.0, 78.0, 75.0, 72.0, 69.0, 66.0, 63.…\n",
       "  \"longitude\"     => [0.0, 3.0, 6.0, 9.0, 12.0, 15.0, 18.0, 21.0, 24.0, 27.0  ……\n",
       "  \"valid_time\"    => DateTime[2017-01-01T00:00:00, 2017-01-01T12:00:00, 2017-01…"
      ]
     },
     "execution_count": 13,
     "metadata": {},
     "output_type": "execute_result"
    }
   ],
   "source": [
    "cfgrib_xarray_data.coords"
   ]
  },
  {
   "cell_type": "code",
   "execution_count": 14,
   "metadata": {},
   "outputs": [
    {
     "data": {
      "text/plain": [
       "(10, 4, 2, 61, 120)"
      ]
     },
     "execution_count": 14,
     "metadata": {},
     "output_type": "execute_result"
    }
   ],
   "source": [
    "size(cfgrib_xarray_data.data)"
   ]
  },
  {
   "cell_type": "code",
   "execution_count": 15,
   "metadata": {},
   "outputs": [
    {
     "data": {
      "text/plain": [
       "AxisArray{Float32,5,Array{Float32,5},Tuple{Axis{:number,Array{Int64,1}},Axis{:time,Array{DateTime,1}},Axis{:isobaricInhPa,Array{Int64,1}},Axis{:latitude,Array{Float64,1}},Axis{:longitude,Array{Float64,1}}}}"
      ]
     },
     "execution_count": 15,
     "metadata": {},
     "output_type": "execute_result"
    }
   ],
   "source": [
    "axisarray_example = AxisArray(\n",
    "    cfgrib_xarray_data.data,\n",
    "    Axis{:number}(cfgrib_xarray_data.coords[\"number\"]),\n",
    "    Axis{:time}(cfgrib_xarray_data.coords[\"time\"]),\n",
    "    Axis{:isobaricInhPa}(cfgrib_xarray_data.coords[\"isobaricInhPa\"]),\n",
    "    Axis{:latitude}(cfgrib_xarray_data.coords[\"latitude\"]),\n",
    "    Axis{:longitude}(cfgrib_xarray_data.coords[\"longitude\"]),\n",
    ")\n",
    "\n",
    "typeof(axisarray_example)"
   ]
  },
  {
   "cell_type": "code",
   "execution_count": 16,
   "metadata": {},
   "outputs": [],
   "source": [
    "axisarray_example;"
   ]
  },
  {
   "cell_type": "markdown",
   "metadata": {},
   "source": [
    "```julia\n",
    "5-dimensional AxisArray{Float32,5,...} with axes:\n",
    "    :number, [0, 1, 2, 3, 4, 5, 6, 7, 8, 9]\n",
    "    :time, DateTime[2017-01-01T00:00:00, 2017-01-01T12:00:00, 2017-01-02T00:00:00, 2017-01-02T12:00:00]\n",
    "    :isobaricInhPa, [850, 500]\n",
    "    :latitude, [90.0, 87.0, 84.0, 81.0, 78.0, 75.0, 72.0, 69.0, 66.0, 63.0  …  -63.0, -66.0, -69.0, -72.0, -75.0, -78.0, -81.0, -84.0, -87.0, -90.0]\n",
    "    :longitude, [0.0, 3.0, 6.0, 9.0, 12.0, 15.0, 18.0, 21.0, 24.0, 27.0  …  330.0, 333.0, 336.0, 339.0, 342.0, 345.0, 348.0, 351.0, 354.0, 357.0]\n",
    "And data, a 10×4×2×61×120 Array{Float32,5}:\n",
    "[:, :, 1, 1, 1] =\n",
    " 252.663  251.854  251.142  252.044\n",
    " 252.277  251.73   250.983  252.548\n",
    " 252.449  251.733  250.829  252.358\n",
    " 252.283  252.258  250.811  252.494\n",
    " 252.049  251.622  250.824  251.921\n",
    " 252.376  252.039  251.123  252.284\n",
    " 252.131  251.842  251.281  252.17 \n",
    " 252.173  251.64   251.116  252.252\n",
    " 251.714  251.768  251.422  252.368\n",
    " 251.881  251.83   250.935  252.599\n",
    "```"
   ]
  },
  {
   "cell_type": "markdown",
   "metadata": {},
   "source": [
    "AxisArrays has no built-in support for attributes but this can be solved with a simple wrapper type which holds the AxisArray and a dictionary:"
   ]
  },
  {
   "cell_type": "code",
   "execution_count": 17,
   "metadata": {},
   "outputs": [],
   "source": [
    "struct MetaAxisArray\n",
    "    array::AxisArray\n",
    "    metadata::OrderedDict\n",
    "end"
   ]
  },
  {
   "cell_type": "code",
   "execution_count": 18,
   "metadata": {},
   "outputs": [],
   "source": [
    "#  Basic show to get a feel for what was done\n",
    "function Base.show(io::IO, m::MetaAxisArray)\n",
    "    axes_names = axisnames(m.array)\n",
    "    axes_values = axisvalues(m.array)\n",
    "\n",
    "    print(io, \"Dimensions: \")\n",
    "    [print(io, \"$(a), \") for a in zip(axes_names, size.(axes_values))]\n",
    "\n",
    "    print(io, \"\\nCoordinates:\\n\")\n",
    "    [print(io, \"\\t$(a)\\n\") for a in zip(axes_names, typeof.(axes_values))]\n",
    "    \n",
    "    print(io, \"Data: $(size(m.array))\\n\")\n",
    "    \n",
    "    print(io, \"Metadata:\\n\")\n",
    "    [print(io, \"\\t$(md)\\n\") for md in m.metadata]\n",
    "end"
   ]
  },
  {
   "cell_type": "code",
   "execution_count": 19,
   "metadata": {},
   "outputs": [
    {
     "data": {
      "text/plain": [
       "Dimensions: (:number, (10,)), (:time, (4,)), (:isobaricInhPa, (2,)), (:latitude, (61,)), (:longitude, (120,)), \n",
       "Coordinates:\n",
       "\t(:number, Array{Int64,1})\n",
       "\t(:time, Array{DateTime,1})\n",
       "\t(:isobaricInhPa, Array{Int64,1})\n",
       "\t(:latitude, Array{Float64,1})\n",
       "\t(:longitude, Array{Float64,1})\n",
       "Data: (10, 4, 2, 61, 120)\n",
       "Metadata:\n",
       "\t\"GRIB_units\" => \"K\"\n",
       "\t\"long_name\" => \"Temperature\"\n",
       "\t\"GRIB_dataType\" => \"an\"\n",
       "\t\"GRIB_totalNumber\" => 10\n",
       "\t\"GRIB_jScansPositively\" => 0\n",
       "\t\"GRIB_name\" => \"Temperature\"\n",
       "\t\"GRIB_gridType\" => \"regular_ll\"\n",
       "\t\"GRIB_Ny\" => 61\n",
       "\t\"GRIB_longitudeOfLastGridPointInDegrees\" => 357.0\n",
       "\t\"GRIB_stepUnits\" => 1\n",
       "\t\"GRIB_jPointsAreConsecutive\" => 0\n",
       "\t\"standard_name\" => \"air_temperature\"\n",
       "\t\"GRIB_jDirectionIncrementInDegrees\" => 3.0\n",
       "\t\"GRIB_gridDefinitionDescription\" => \"Latitude/Longitude Grid\"\n",
       "\t\"GRIB_latitudeOfLastGridPointInDegrees\" => -90.0\n",
       "\t\"GRIB_shortName\" => \"t\"\n",
       "\t\"GRIB_missingValue\" => 9999\n",
       "\t\"GRIB_stepType\" => \"instant\"\n",
       "\t\"GRIB_numberOfPoints\" => 7320\n",
       "\t\"GRIB_NV\" => 0\n",
       "\t\"GRIB_latitudeOfFirstGridPointInDegrees\" => 90.0\n",
       "\t\"GRIB_cfName\" => \"air_temperature\"\n",
       "\t\"units\" => \"K\"\n",
       "\t\"GRIB_cfVarName\" => \"t\"\n",
       "\t\"GRIB_Nx\" => 120\n",
       "\t\"GRIB_iDirectionIncrementInDegrees\" => 3.0\n",
       "\t\"GRIB_iScansNegatively\" => 0\n",
       "\t\"GRIB_paramId\" => 130\n",
       "\t\"GRIB_longitudeOfFirstGridPointInDegrees\" => 0.0\n",
       "\t\"GRIB_typeOfLevel\" => \"isobaricInhPa\"\n"
      ]
     },
     "execution_count": 19,
     "metadata": {},
     "output_type": "execute_result"
    }
   ],
   "source": [
    "meta_axisarray_example = MetaAxisArray(axisarray_example, cfgrib_xarray_data.meta)"
   ]
  },
  {
   "cell_type": "markdown",
   "metadata": {},
   "source": [
    "## NamedArrays\n",
    "\n",
    "> We would want to have the possibility to give each row/column/... in an Array names, as well as the array dimensions themselves. This could be used for pretty-printing, indexing, and perhaps even some sort of dimension-checking in certain matrix computations.\n",
    "> \n",
    "> In all other respects, a NamedArray should behave the same as the underlying AbstractArray.\n",
    "> \n",
    "> A NamedArray should adhere to the interface definition of an AbstractArray itself, if there are cases where this is not true, these should be considered bugs in the implementation of NamedArrays."
   ]
  },
  {
   "cell_type": "code",
   "execution_count": 20,
   "metadata": {},
   "outputs": [],
   "source": [
    "using NamedArrays"
   ]
  },
  {
   "cell_type": "code",
   "execution_count": 21,
   "metadata": {},
   "outputs": [
    {
     "data": {
      "text/plain": [
       "2×3 Named Array{Int64,2}\n",
       "A ╲ B │ :a  :b  :c\n",
       "──────┼───────────\n",
       "one   │  1   2   3\n",
       "two   │  4   5   6"
      ]
     },
     "execution_count": 21,
     "metadata": {},
     "output_type": "execute_result"
    }
   ],
   "source": [
    "n = NamedArray([1 2 3; 4 5 6], ([\"one\", \"two\"], [:a, :b, :c]))"
   ]
  },
  {
   "cell_type": "code",
   "execution_count": 22,
   "metadata": {},
   "outputs": [
    {
     "data": {
      "text/plain": [
       "2-element Named Array{Int64,1}\n",
       "A   │ \n",
       "────┼──\n",
       "one │ 1\n",
       "two │ 4"
      ]
     },
     "execution_count": 22,
     "metadata": {},
     "output_type": "execute_result"
    }
   ],
   "source": [
    "n[:, :a]"
   ]
  },
  {
   "cell_type": "code",
   "execution_count": 23,
   "metadata": {},
   "outputs": [
    {
     "data": {
      "text/plain": [
       "2×2 Named Array{Int64,2}\n",
       "Rows ╲ Cols │ c  d\n",
       "────────────┼─────\n",
       "a           │ 1  3\n",
       "b           │ 2  4"
      ]
     },
     "execution_count": 23,
     "metadata": {},
     "output_type": "execute_result"
    }
   ],
   "source": [
    "NamedArray([1 3; 2 4], ( [\"a\", \"b\"], [\"c\", \"d\"] ), (\"Rows\", \"Cols\"))"
   ]
  },
  {
   "cell_type": "code",
   "execution_count": 24,
   "metadata": {},
   "outputs": [
    {
     "data": {
      "text/plain": [
       "OrderedDict{Any,Any} with 5 entries:\n",
       "  \"number\"        => [0, 1, 2, 3, 4, 5, 6, 7, 8, 9]\n",
       "  \"time\"          => DateTime[2017-01-01T00:00:00, 2017-01-01T12:00:00, 2017-01…\n",
       "  \"isobaricInhPa\" => [850, 500]\n",
       "  \"latitude\"      => [90.0, 87.0, 84.0, 81.0, 78.0, 75.0, 72.0, 69.0, 66.0, 63.…\n",
       "  \"longitude\"     => [0.0, 3.0, 6.0, 9.0, 12.0, 15.0, 18.0, 21.0, 24.0, 27.0  ……"
      ]
     },
     "execution_count": 24,
     "metadata": {},
     "output_type": "execute_result"
    }
   ],
   "source": [
    "only_data_coords = copy(cfgrib_xarray_data.coords)\n",
    "delete!(only_data_coords, \"step\")\n",
    "delete!(only_data_coords, \"valid_time\")"
   ]
  },
  {
   "cell_type": "code",
   "execution_count": 25,
   "metadata": {},
   "outputs": [
    {
     "data": {
      "text/plain": [
       "5-element Array{Pair{String,B} where B,1}:\n",
       "        \"number\" => [0, 1, 2, 3, 4, 5, 6, 7, 8, 9]                                                                                                       \n",
       "          \"time\" => DateTime[2017-01-01T00:00:00, 2017-01-01T12:00:00, 2017-01-02T00:00:00, 2017-01-02T12:00:00]                                         \n",
       " \"isobaricInhPa\" => [850, 500]                                                                                                                           \n",
       "      \"latitude\" => [90.0, 87.0, 84.0, 81.0, 78.0, 75.0, 72.0, 69.0, 66.0, 63.0  …  -63.0, -66.0, -69.0, -72.0, -75.0, -78.0, -81.0, -84.0, -87.0, -90.0]\n",
       "     \"longitude\" => [0.0, 3.0, 6.0, 9.0, 12.0, 15.0, 18.0, 21.0, 24.0, 27.0  …  330.0, 333.0, 336.0, 339.0, 342.0, 345.0, 348.0, 351.0, 354.0, 357.0]    "
      ]
     },
     "execution_count": 25,
     "metadata": {},
     "output_type": "execute_result"
    }
   ],
   "source": [
    "collect(o for o in only_data_coords)"
   ]
  },
  {
   "cell_type": "code",
   "execution_count": 26,
   "metadata": {},
   "outputs": [
    {
     "data": {
      "text/plain": [
       "10×4 Named Array{Float32,2}\n",
       "number ╲ time │ 2017-01-01T00:00:00  …  2017-01-02T12:00:00\n",
       "──────────────┼────────────────────────────────────────────\n",
       "0             │             252.663  …              252.044\n",
       "1             │             252.277                 252.548\n",
       "2             │             252.449                 252.358\n",
       "3             │             252.283                 252.494\n",
       "4             │             252.049                 251.921\n",
       "5             │             252.376                 252.284\n",
       "6             │             252.131                  252.17\n",
       "7             │             252.173                 252.252\n",
       "8             │             251.714                 252.368\n",
       "9             │             251.881  …              252.599"
      ]
     },
     "execution_count": 26,
     "metadata": {},
     "output_type": "execute_result"
    }
   ],
   "source": [
    "namedarray_example = NamedArray(\n",
    "    cfgrib_xarray_data.data[:, :, 1, 1, 1],\n",
    "    (only_data_coords[\"number\"], only_data_coords[\"time\"]),\n",
    "    (\"number\", \"time\")\n",
    ")"
   ]
  },
  {
   "cell_type": "code",
   "execution_count": 27,
   "metadata": {},
   "outputs": [
    {
     "data": {
      "text/plain": [
       "10×4×2×61×120 Named Array{Float32,5}\n",
       "\n",
       "[:, :, isobaricInhPa=850, latitude=90.0, longitude=0.0] =\n",
       "number ╲ time │ 2017-01-01T00:00:00  …  2017-01-02T12:00:00\n",
       "──────────────┼────────────────────────────────────────────\n",
       "0             │             252.663  …              252.044\n",
       "⋮                                 ⋮  ⋱                    ⋮\n",
       "9             │             251.881  …              252.599\n",
       "\n",
       "[:, :, isobaricInhPa=500, latitude=90.0, longitude=0.0] =\n",
       "number ╲ time │ 2017-01-01T00:00:00  …  2017-01-02T12:00:00\n",
       "──────────────┼────────────────────────────────────────────\n",
       "0             │              233.31  …              230.701\n",
       "⋮                                 ⋮  ⋱                    ⋮\n",
       "9             │             233.147  …              230.401\n",
       "\n",
       "[:, :, isobaricInhPa=850, latitude=87.0, longitude=0.0] =\n",
       "number ╲ time │ 2017-01-01T00:00:00  …  2017-01-02T12:00:00\n",
       "──────────────┼────────────────────────────────────────────\n",
       "0             │              252.61  …              253.349\n",
       "⋮                                 ⋮  ⋱                    ⋮\n",
       "9             │             252.414  …              253.629\n",
       "\n",
       "[:, :, isobaricInhPa=500, latitude=87.0, longitude=0.0] =\n",
       "number ╲ time │ 2017-01-01T00:00:00  …  2017-01-02T12:00:00\n",
       "──────────────┼────────────────────────────────────────────\n",
       "0             │             231.276  …              230.374\n",
       "⋮                                 ⋮  ⋱                    ⋮\n",
       "9             │              231.05  …              230.266\n",
       "⋮"
      ]
     },
     "execution_count": 27,
     "metadata": {},
     "output_type": "execute_result"
    }
   ],
   "source": [
    "namedarray_example = NamedArray(\n",
    "    cfgrib_xarray_data.data,\n",
    "    Tuple(values(only_data_coords)),\n",
    "    Tuple(names(only_data_coords))\n",
    ")"
   ]
  },
  {
   "cell_type": "code",
   "execution_count": 28,
   "metadata": {},
   "outputs": [
    {
     "data": {
      "text/plain": [
       "5-element Array{Array{T,1} where T,1}:\n",
       " [0, 1, 2, 3, 4, 5, 6, 7, 8, 9]                                                                                                       \n",
       " DateTime[2017-01-01T00:00:00, 2017-01-01T12:00:00, 2017-01-02T00:00:00, 2017-01-02T12:00:00]                                         \n",
       " [850, 500]                                                                                                                           \n",
       " [90.0, 87.0, 84.0, 81.0, 78.0, 75.0, 72.0, 69.0, 66.0, 63.0  …  -63.0, -66.0, -69.0, -72.0, -75.0, -78.0, -81.0, -84.0, -87.0, -90.0]\n",
       " [0.0, 3.0, 6.0, 9.0, 12.0, 15.0, 18.0, 21.0, 24.0, 27.0  …  330.0, 333.0, 336.0, 339.0, 342.0, 345.0, 348.0, 351.0, 354.0, 357.0]    "
      ]
     },
     "execution_count": 28,
     "metadata": {},
     "output_type": "execute_result"
    }
   ],
   "source": [
    "names(namedarray_example)"
   ]
  },
  {
   "cell_type": "code",
   "execution_count": 29,
   "metadata": {},
   "outputs": [
    {
     "data": {
      "text/plain": [
       "5-element Array{String,1}:\n",
       " \"number\"       \n",
       " \"time\"         \n",
       " \"isobaricInhPa\"\n",
       " \"latitude\"     \n",
       " \"longitude\"    "
      ]
     },
     "execution_count": 29,
     "metadata": {},
     "output_type": "execute_result"
    }
   ],
   "source": [
    "dimnames(namedarray_example)"
   ]
  },
  {
   "cell_type": "markdown",
   "metadata": {},
   "source": [
    "As before, no native support for attributes but they can be added in quite easily"
   ]
  },
  {
   "cell_type": "markdown",
   "metadata": {},
   "source": [
    "## Images\n",
    "\n",
    "Two main packages from the Images.jl ecosystem may be interesting:\n",
    "\n",
    "[ImageMetadata.jl](https://juliaimages.org/latest/imagemetadata/):\n",
    "\n",
    "> ImageMetadata (a package incorporated into Images) allows you to add metadata to images: for example, the date and time at which it was collected, identifiers for the location or subject, etc. This metadata is stored as a dictionary, and the ImageMeta type combines properties of arrays and Dict.\n",
    "\n",
    "[ImageAxes.jl](https://juliaimages.org/ImageAxes.jl/stable/):\n",
    "\n",
    "> While images can often be represented as plain Arrays, sometimes additional information about the \"meaning\" of each axis of the array is needed. For example, in a 3-dimensional MRI scan, the voxels may not have the same spacing along the z-axis that they do along the x- and y-axes, and this fact should be accounted for during the display and/or analysis of such images. Likewise, a movie has two spatial axes and one temporal axis; this fact may be relevant for how one performs image processing.\n",
    "> \n",
    "> This package combines features from AxisArrays and SimpleTraits to provide a convenient representation and programming paradigm for dealing with such images."
   ]
  },
  {
   "cell_type": "code",
   "execution_count": 30,
   "metadata": {},
   "outputs": [],
   "source": [
    "using ImageMetadata, Colors"
   ]
  },
  {
   "cell_type": "code",
   "execution_count": 31,
   "metadata": {},
   "outputs": [
    {
     "data": {
      "image/svg+xml": [
       "<?xml version=\"1.0\" encoding=\"UTF-8\"?>\n",
       "<!DOCTYPE svg PUBLIC \"-//W3C//DTD SVG 1.1//EN\"\n",
       " \"http://www.w3.org/Graphics/SVG/1.1/DTD/svg11.dtd\">\n",
       "<svg xmlns=\"http://www.w3.org/2000/svg\" version=\"1.1\"\n",
       "     width=\"50.0mm\" height=\"75.0mm\"\n",
       "     shape-rendering=\"crispEdges\">\n",
       "<rect x=\"0.0mm\" y=\"0.0mm\"\n",
       "      width=\"24.0mm\" height=\"24.0mm\"\n",
       "      fill=\"#FF0000\" stroke=\"none\" />\n",
       "<rect x=\"25.0mm\" y=\"0.0mm\"\n",
       "      width=\"24.0mm\" height=\"24.0mm\"\n",
       "      fill=\"#FF0000\" stroke=\"none\" />\n",
       "<rect x=\"0.0mm\" y=\"25.0mm\"\n",
       "      width=\"24.0mm\" height=\"24.0mm\"\n",
       "      fill=\"#FF0000\" stroke=\"none\" />\n",
       "<rect x=\"25.0mm\" y=\"25.0mm\"\n",
       "      width=\"24.0mm\" height=\"24.0mm\"\n",
       "      fill=\"#FF0000\" stroke=\"none\" />\n",
       "<rect x=\"0.0mm\" y=\"50.0mm\"\n",
       "      width=\"24.0mm\" height=\"24.0mm\"\n",
       "      fill=\"#FF0000\" stroke=\"none\" />\n",
       "<rect x=\"25.0mm\" y=\"50.0mm\"\n",
       "      width=\"24.0mm\" height=\"24.0mm\"\n",
       "      fill=\"#FF0000\" stroke=\"none\" />\n",
       "</svg>"
      ],
      "text/plain": [
       "RGB ImageMeta with:\n",
       "  data: 3×2 Array{RGB{N0f8},2} with eltype RGB{FixedPointNumbers.Normed{UInt8,8}}\n",
       "  properties:\n",
       "    time: high noon\n",
       "    date: 2016-07-31"
      ]
     },
     "execution_count": 31,
     "metadata": {},
     "output_type": "execute_result"
    }
   ],
   "source": [
    "img = ImageMeta(fill(RGB(1,0,0), 3, 2), date=Date(2016, 7, 31), time=\"high noon\")"
   ]
  },
  {
   "cell_type": "code",
   "execution_count": 32,
   "metadata": {},
   "outputs": [
    {
     "data": {
      "text/plain": [
       "ImageMeta{RGB{FixedPointNumbers.Normed{UInt8,8}},2,Array{RGB{FixedPointNumbers.Normed{UInt8,8}},2},Dict{String,Any}}"
      ]
     },
     "execution_count": 32,
     "metadata": {},
     "output_type": "execute_result"
    }
   ],
   "source": [
    "typeof(img)"
   ]
  },
  {
   "cell_type": "code",
   "execution_count": 33,
   "metadata": {},
   "outputs": [
    {
     "data": {
      "text/plain": [
       "\"high noon\""
      ]
     },
     "execution_count": 33,
     "metadata": {},
     "output_type": "execute_result"
    }
   ],
   "source": [
    "img[\"time\"]"
   ]
  },
  {
   "cell_type": "code",
   "execution_count": 34,
   "metadata": {},
   "outputs": [
    {
     "data": {
      "text/plain": [
       "\"evening\""
      ]
     },
     "execution_count": 34,
     "metadata": {},
     "output_type": "execute_result"
    }
   ],
   "source": [
    "img[\"time\"] = \"evening\""
   ]
  },
  {
   "cell_type": "code",
   "execution_count": 35,
   "metadata": {},
   "outputs": [
    {
     "name": "stdout",
     "output_type": "stream",
     "text": [
      "img = RGB ImageMeta with:\n",
      "  data: 3×2 Array{RGB{N0f8},2} with eltype RGB{FixedPointNumbers.Normed{UInt8,8}}\n",
      "  properties:\n",
      "    time: evening\n",
      "    date: 2016-07-31\n"
     ]
    },
    {
     "data": {
      "image/svg+xml": [
       "<?xml version=\"1.0\" encoding=\"UTF-8\"?>\n",
       "<!DOCTYPE svg PUBLIC \"-//W3C//DTD SVG 1.1//EN\"\n",
       " \"http://www.w3.org/Graphics/SVG/1.1/DTD/svg11.dtd\">\n",
       "<svg xmlns=\"http://www.w3.org/2000/svg\" version=\"1.1\"\n",
       "     width=\"50.0mm\" height=\"75.0mm\"\n",
       "     shape-rendering=\"crispEdges\">\n",
       "<rect x=\"0.0mm\" y=\"0.0mm\"\n",
       "      width=\"24.0mm\" height=\"24.0mm\"\n",
       "      fill=\"#FF0000\" stroke=\"none\" />\n",
       "<rect x=\"25.0mm\" y=\"0.0mm\"\n",
       "      width=\"24.0mm\" height=\"24.0mm\"\n",
       "      fill=\"#FF0000\" stroke=\"none\" />\n",
       "<rect x=\"0.0mm\" y=\"25.0mm\"\n",
       "      width=\"24.0mm\" height=\"24.0mm\"\n",
       "      fill=\"#FF0000\" stroke=\"none\" />\n",
       "<rect x=\"25.0mm\" y=\"25.0mm\"\n",
       "      width=\"24.0mm\" height=\"24.0mm\"\n",
       "      fill=\"#FF0000\" stroke=\"none\" />\n",
       "<rect x=\"0.0mm\" y=\"50.0mm\"\n",
       "      width=\"24.0mm\" height=\"24.0mm\"\n",
       "      fill=\"#FF0000\" stroke=\"none\" />\n",
       "<rect x=\"25.0mm\" y=\"50.0mm\"\n",
       "      width=\"24.0mm\" height=\"24.0mm\"\n",
       "      fill=\"#FF0000\" stroke=\"none\" />\n",
       "</svg>"
      ],
      "text/plain": [
       "RGB ImageMeta with:\n",
       "  data: 3×2 Array{RGB{N0f8},2} with eltype RGB{FixedPointNumbers.Normed{UInt8,8}}\n",
       "  properties:\n",
       "    time: evening\n",
       "    date: 2016-07-31"
      ]
     },
     "execution_count": 35,
     "metadata": {},
     "output_type": "execute_result"
    }
   ],
   "source": [
    "@show img"
   ]
  },
  {
   "cell_type": "code",
   "execution_count": 36,
   "metadata": {},
   "outputs": [
    {
     "data": {
      "text/plain": [
       "AxisArray{Float32,5,Array{Float32,5},Tuple{Axis{:number,Array{Int64,1}},Axis{:time,Array{DateTime,1}},Axis{:isobaricInhPa,Array{Int64,1}},Axis{:latitude,Array{Float64,1}},Axis{:longitude,Array{Float64,1}}}}"
      ]
     },
     "execution_count": 36,
     "metadata": {},
     "output_type": "execute_result"
    }
   ],
   "source": [
    "axisarray_example = AxisArray(\n",
    "    cfgrib_xarray_data.data,\n",
    "    Axis{:number}(cfgrib_xarray_data.coords[\"number\"]),\n",
    "    Axis{:time}(cfgrib_xarray_data.coords[\"time\"]),\n",
    "    Axis{:isobaricInhPa}(cfgrib_xarray_data.coords[\"isobaricInhPa\"]),\n",
    "    Axis{:latitude}(cfgrib_xarray_data.coords[\"latitude\"]),\n",
    "    Axis{:longitude}(cfgrib_xarray_data.coords[\"longitude\"]),\n",
    ")\n",
    "\n",
    "typeof(axisarray_example)"
   ]
  },
  {
   "cell_type": "code",
   "execution_count": 37,
   "metadata": {},
   "outputs": [
    {
     "data": {
      "text/plain": [
       "Float32 ImageMeta with:\n",
       "  data: 5-dimensional AxisArray{Float32,5,...} with axes:\n",
       "    :number, [0, 1, 2, 3, 4, 5, 6, 7, 8, 9]\n",
       "    :time, DateTime[2017-01-01T00:00:00, 2017-01-01T12:00:00, 2017-01-02T00:00:00, 2017-01-02T12:00:00]\n",
       "    :isobaricInhPa, [850, 500]\n",
       "    :latitude, [90.0, 87.0, 84.0, 81.0, 78.0, 75.0, 72.0, 69.0, 66.0, 63.0  …  -63.0, -66.0, -69.0, -72.0, -75.0, -78.0, -81.0, -84.0, -87.0, -90.0]\n",
       "    :longitude, [0.0, 3.0, 6.0, 9.0, 12.0, 15.0, 18.0, 21.0, 24.0, 27.0  …  330.0, 333.0, 336.0, 339.0, 342.0, 345.0, 348.0, 351.0, 354.0, 357.0]\n",
       "And data, a 10×4×2×61×120 Array{Float32,5}\n",
       "  properties:"
      ]
     },
     "execution_count": 37,
     "metadata": {},
     "output_type": "execute_result"
    }
   ],
   "source": [
    "imgmeta_example = ImageMeta(axisarray_example)"
   ]
  },
  {
   "cell_type": "code",
   "execution_count": 38,
   "metadata": {},
   "outputs": [],
   "source": [
    "[imgmeta_example[k] = v for (k, v) in pairs(cfgrib_xarray_data.meta)];"
   ]
  },
  {
   "cell_type": "code",
   "execution_count": 39,
   "metadata": {},
   "outputs": [
    {
     "data": {
      "text/plain": [
       "Float32 ImageMeta with:\n",
       "  data: 5-dimensional AxisArray{Float32,5,...} with axes:\n",
       "    :number, [0, 1, 2, 3, 4, 5, 6, 7, 8, 9]\n",
       "    :time, DateTime[2017-01-01T00:00:00, 2017-01-01T12:00:00, 2017-01-02T00:00:00, 2017-01-02T12:00:00]\n",
       "    :isobaricInhPa, [850, 500]\n",
       "    :latitude, [90.0, 87.0, 84.0, 81.0, 78.0, 75.0, 72.0, 69.0, 66.0, 63.0  …  -63.0, -66.0, -69.0, -72.0, -75.0, -78.0, -81.0, -84.0, -87.0, -90.0]\n",
       "    :longitude, [0.0, 3.0, 6.0, 9.0, 12.0, 15.0, 18.0, 21.0, 24.0, 27.0  …  330.0, 333.0, 336.0, 339.0, 342.0, 345.0, 348.0, 351.0, 354.0, 357.0]\n",
       "And data, a 10×4×2×61×120 Array{Float32,5}\n",
       "  properties:\n",
       "    GRIB_typeOfLevel: isobaricInhPa\n",
       "    long_name: Temperature\n",
       "    GRIB_dataType: an\n",
       "    GRIB_totalNumber: 10\n",
       "    GRIB_jScansPositively: 0\n",
       "    GRIB_name: Temperature\n",
       "    GRIB_gridType: regular_ll\n",
       "    GRIB_Ny: 61\n",
       "    GRIB_longitudeOfLastGridPointInDegrees: 357.0\n",
       "    GRIB_stepUnits: 1\n",
       "    GRIB_jPointsAreConsecutive: 0\n",
       "    standard_name: air_temperature\n",
       "    GRIB_jDirectionIncrementInDegrees: 3.0\n",
       "    GRIB_gridDefinitionDescription: Latitude/Longitude Grid\n",
       "    GRIB_latitudeOfLastGridPointInDegrees: -90.0\n",
       "    GRIB_shortName: t\n",
       "    GRIB_missingValue: 9999\n",
       "    GRIB_stepType: instant\n",
       "    GRIB_numberOfPoints: 7320\n",
       "    GRIB_NV: 0\n",
       "    GRIB_latitudeOfFirstGridPointInDegrees: 90.0\n",
       "    GRIB_cfName: air_temperature\n",
       "    units: K\n",
       "    GRIB_cfVarName: t\n",
       "    GRIB_Nx: 120\n",
       "    GRIB_iDirectionIncrementInDegrees: 3.0\n",
       "    GRIB_iScansNegatively: 0\n",
       "    GRIB_paramId: 130\n",
       "    GRIB_longitudeOfFirstGridPointInDegrees: 0.0\n",
       "    GRIB_units: K"
      ]
     },
     "execution_count": 39,
     "metadata": {},
     "output_type": "execute_result"
    }
   ],
   "source": [
    "imgmeta_example"
   ]
  },
  {
   "cell_type": "markdown",
   "metadata": {},
   "source": [
    "Which is quite close to the view provided by cfgrib"
   ]
  }
 ],
 "metadata": {
  "kernelspec": {
   "display_name": "Julia 1.2.0",
   "language": "julia",
   "name": "julia-1.2"
  },
  "language_info": {
   "file_extension": ".jl",
   "mimetype": "application/julia",
   "name": "julia",
   "version": "1.2.0"
  }
 },
 "nbformat": 4,
 "nbformat_minor": 4
}
