{
 "cells": [
  {
   "cell_type": "markdown",
   "metadata": {},
   "source": [
    "# Julia CFGRIB Development\n",
    "\n",
    "Notebook containing some notes on the development of a Julia equivalent to the Python [cfgrib](https://github.com/ecmwf/cfgrib) package"
   ]
  },
  {
   "cell_type": "markdown",
   "metadata": {},
   "source": [
    "## Deliverables\n",
    "\n",
    "    Deliverable 1 (by 30. December latest, would be better earlier – we need a deliverable this year): A plan for implementation;  A feasibility study, based on existing solutions in the Julie eco system. cfGrib for Python is successful because we started from the Python solution, like xarray, and mapped GRIb onto it. A set of mockup Julia notebook to see how future programs will look like working with GRIB data\n",
    "    \n",
    "    Deliverable 2 (by July 2020?): CFGriB v? pyton version implemented into Julia; A use case (details to be decided in collaboration with ECMWF)"
   ]
  },
  {
   "cell_type": "markdown",
   "metadata": {},
   "source": [
    "## Living Timeline\n",
    "\n",
    "### 2019 - December: Feasibility Study\n",
    "\n",
    "#### 2019-12-01: Python Functionality Exploration\n",
    "\n",
    "Python notebook(s) exploring existing functionality in CFGRIB:\n",
    "\n",
    " - [x] Play with features mentioned in readme\n",
    " - [x] Look through [CFGRIB: EASY AND EFFICIENT GRIB FILEACCESS IN XARRAY](https://www.ecmwf.int/sites/default/files/elibrary/2018/18727-cfgrib-easy-and-efficient-grib-file-access-xarray.pdf) presentation\n",
    " - [ ] Explore unit tests\n",
    "\n",
    "#### 2019-12-08: Julia Existing Package Overview\n",
    "\n",
    "Julia notebook(s) going through existing packages which may be useful in this project\n",
    "\n",
    "Generic tools:\n",
    "\n",
    " - [ ] JuliaIO\n",
    " - [ ] JuliaDB\n",
    " - [ ] Images.jl vs. NamedArrays.jl vs. AxisArrays.jl\n",
    " - [ ] Unitful.jl\n",
    "\n",
    "(Optionally) Look at existing GRIB/Climate specific tools:\n",
    "\n",
    " - [ ] ClimateTools.jl\n",
    " - [ ] GRIB.jl\n",
    " - [ ] GDAJ.jl / ArchGDAL.jl\n",
    " - [ ] ICOADSDictionary.jl\n",
    "\n",
    "#### 2019-12-15: Proposed Options for Julia Interface\n",
    "\n",
    " - [ ] Julia notebooks replicating Python functionality\n",
    "\n",
    "#### 2019-12-22\n",
    "\n",
    " - [ ] Cleanup and deliver\n"
   ]
  },
  {
   "cell_type": "markdown",
   "metadata": {},
   "source": [
    "## CFGRIB Features\n",
    "\n",
    " - Read grib as xarray\n",
    "     - All standard xarray features work - may be a problem if Julia-equivalent to xarray is missing crucial functionality\n",
    "     - Integration with dask\n",
    "     - \"cfgrib reads a limited set of ecCodes recognised keys from the GRIB files\"\n",
    " - Data model translation via cf2cdm\n",
    "     - Dictionary of user-defined translations of CF compliant coordinates\n",
    "     - Translations cover:\n",
    "         - name: `depthKelowLand` -> `level`\n",
    "         - units: `undefined` -> `m`\n",
    "         - direction: `undefined` -> `increasing`\n",
    " - Filter heterogeneous GRIB files\n",
    "     - If file contains multiple `typeOfLevel` an error `ValueError: multiple values for unique key` is raised as the values are ambiguous\n",
    "     - If different variables (`t` and `z`) share a coordinate and the coordinates are not identical an error `ValueError: key present and new value is different` is raised"
   ]
  },
  {
   "cell_type": "markdown",
   "metadata": {},
   "source": [
    "## Notes\n",
    "\n",
    " - xarray GRIB engine allows for Dask integration. If similar functionality is desired in Julia then Dagger.jl  / JuliaDB integration would be required.\n",
    " - Last I checked, AxisArrays.jl is the best xarray equivalent in Julia, however there are plans to [overhaul it in the future](https://github.com/JuliaCollections/AxisArraysFuture/issues/1) - this is an inherent risk of using a young language, package stability is a long ways off as there are no real established standard packages yet\n",
    " - Small typo in cfgrib readme, 'Translate to a custom data model' says \"cf2cfm\" instead of \"cf2cdm\"\n",
    " - Translation via `cf2cdm` can sort coordinate in ascending/descending order\n",
    " - Some tests are performed via [cdsapi](https://github.com/ecmwf/cdsapi) calls - how should this be handled?\n",
    "\n",
    "    - A GRIB stream, a file, is list of GRIB messages\n",
    "    - A GRIB message contains a single geographic field with latitude, longitude\n",
    "    - Message metadata (keys) can be regarded as additional coordinates: time, level, etc.\n",
    "    - MARS retrievals are typically nice hypercubes\n",
    "    - Messages in a stream are completely independent, there's no guarantee\n"
   ]
  },
  {
   "cell_type": "code",
   "execution_count": null,
   "metadata": {},
   "outputs": [],
   "source": []
  }
 ],
 "metadata": {
  "kernelspec": {
   "display_name": "Python 3",
   "language": "python",
   "name": "python3"
  },
  "language_info": {
   "codemirror_mode": {
    "name": "ipython",
    "version": 3
   },
   "file_extension": ".py",
   "mimetype": "text/x-python",
   "name": "python",
   "nbconvert_exporter": "python",
   "pygments_lexer": "ipython3",
   "version": "3.7.4"
  }
 },
 "nbformat": 4,
 "nbformat_minor": 4
}
