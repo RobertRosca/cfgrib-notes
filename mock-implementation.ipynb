{
 "cells": [
  {
   "cell_type": "markdown",
   "metadata": {},
   "source": [
    "# Rough Mock Implementation\n",
    "\n",
    "This is a Julia notebook which, using some tricks, shows a rough mock implementation of cfgrib in Julia. It goes through:\n",
    "\n",
    "1. Loading in the data from a grib file via `PyCall` instead of by calling `ecCodes` as that is the easiest solution for this demonstration\n",
    "2. Using `AxisArrays` to create an object which behaves similarily to `DataArray` in xarrays\n",
    "3. Using `ImageMetadata` to add in mestadata to the `AxisArrays`, as it does not support metadata by default - this is equivalent to the `Attributes` DataArrays have in xarrays\n",
    "4. Adding in a custom class `AxisSet` class (collection of AxisArrays), along with metadata for the sets - this is equivalent to a `Dataset` in xarrays"
   ]
  },
  {
   "cell_type": "code",
   "execution_count": 1,
   "metadata": {},
   "outputs": [
    {
     "name": "stdout",
     "output_type": "stream",
     "text": [
      "\u001b[32m\u001b[1mActivating\u001b[22m\u001b[39m environment at `~/work/cfgrib-julia-notebooks/binder/Project.toml`\n"
     ]
    }
   ],
   "source": [
    "using Pkg; Pkg.activate(\"./binder/\")"
   ]
  },
  {
   "cell_type": "code",
   "execution_count": 2,
   "metadata": {},
   "outputs": [],
   "source": [
    "using AxisArrays\n",
    "using ImageMetadata"
   ]
  },
  {
   "cell_type": "markdown",
   "metadata": {},
   "source": [
    "## 1 - Loading in Data via PyCall"
   ]
  },
  {
   "cell_type": "code",
   "execution_count": 3,
   "metadata": {},
   "outputs": [
    {
     "data": {
      "text/plain": [
       "python_cfgrib_load (generic function with 2 methods)"
      ]
     },
     "execution_count": 3,
     "metadata": {},
     "output_type": "execute_result"
    }
   ],
   "source": [
    "#  Code file includes the load functions as I have reuse these a few times in\n",
    "#  other notebooks\n",
    "include(\"./src/conversions.jl\")"
   ]
  },
  {
   "cell_type": "code",
   "execution_count": 4,
   "metadata": {},
   "outputs": [
    {
     "data": {
      "text/plain": [
       "OrderedDict{Any,Any} with 7 entries:\n",
       "  \"number\"        => [0, 1, 2, 3, 4, 5, 6, 7, 8, 9]\n",
       "  \"time\"          => DateTime[2017-01-01T00:00:00, 2017-01-01T12:00:00, 2017-01…\n",
       "  \"step\"          => 0 nanoseconds\n",
       "  \"isobaricInhPa\" => [850, 500]\n",
       "  \"latitude\"      => [90.0, 87.0, 84.0, 81.0, 78.0, 75.0, 72.0, 69.0, 66.0, 63.…\n",
       "  \"longitude\"     => [0.0, 3.0, 6.0, 9.0, 12.0, 15.0, 18.0, 21.0, 24.0, 27.0  ……\n",
       "  \"valid_time\"    => DateTime[2017-01-01T00:00:00, 2017-01-01T12:00:00, 2017-01…"
      ]
     },
     "execution_count": 4,
     "metadata": {},
     "output_type": "execute_result"
    }
   ],
   "source": [
    "#  Contains the `Coordinates` of the xarray `Dataset`\n",
    "pythons_dataset_coords = python_cfgrib_coords(\"./data/era5-levels-members.grib\")"
   ]
  },
  {
   "cell_type": "code",
   "execution_count": 5,
   "metadata": {},
   "outputs": [
    {
     "data": {
      "text/plain": [
       "(Axis{:number,Array{Int64,1}}([0, 1, 2, 3, 4, 5, 6, 7, 8, 9]), Axis{:time,Array{DateTime,1}}(DateTime[2017-01-01T00:00:00, 2017-01-01T12:00:00, 2017-01-02T00:00:00, 2017-01-02T12:00:00]), Axis{:isobaricInhPa,Array{Int64,1}}([850, 500]), Axis{:latitude,Array{Float64,1}}([90.0, 87.0, 84.0, 81.0, 78.0, 75.0, 72.0, 69.0, 66.0, 63.0  …  -63.0, -66.0, -69.0, -72.0, -75.0, -78.0, -81.0, -84.0, -87.0, -90.0]), Axis{:longitude,Array{Float64,1}}([0.0, 3.0, 6.0, 9.0, 12.0, 15.0, 18.0, 21.0, 24.0, 27.0  …  330.0, 333.0, 336.0, 339.0, 342.0, 345.0, 348.0, 351.0, 354.0, 357.0]))"
      ]
     },
     "execution_count": 5,
     "metadata": {},
     "output_type": "execute_result"
    }
   ],
   "source": [
    "#  Order of coordinates is lost in the Python-Julia conversion, so I have to\n",
    "#  order them manually here\n",
    "coords = (\n",
    "    Axis{:number}(pythons_dataset_coords[\"number\"]),\n",
    "    Axis{:time}(pythons_dataset_coords[\"time\"]),\n",
    "    Axis{:isobaricInhPa}(pythons_dataset_coords[\"isobaricInhPa\"]),\n",
    "    Axis{:latitude}(pythons_dataset_coords[\"latitude\"]),\n",
    "    Axis{:longitude}(pythons_dataset_coords[\"longitude\"])\n",
    ")"
   ]
  },
  {
   "cell_type": "code",
   "execution_count": 6,
   "metadata": {},
   "outputs": [
    {
     "data": {
      "text/plain": [
       "OrderedDict{Any,Any} with 7 entries:\n",
       "  \"Conventions\"            => \"CF-1.7\"\n",
       "  \"history\"                => \"2019-12-31T02:18:03 GRIB to CDM+CF via cfgrib-0.…\n",
       "  \"GRIB_edition\"           => 1\n",
       "  \"GRIB_centreDescription\" => \"European Centre for Medium-Range Weather Forecas…\n",
       "  \"institution\"            => \"European Centre for Medium-Range Weather Forecas…\n",
       "  \"GRIB_subCentre\"         => 0\n",
       "  \"GRIB_centre\"            => \"ecmf\""
      ]
     },
     "execution_count": 6,
     "metadata": {},
     "output_type": "execute_result"
    }
   ],
   "source": [
    "#  Contains the `Attributes` of the xarray `Dataset`\n",
    "python_dataset_attributes = python_cfgrib_metadata(\"./data/era5-levels-members.grib\")"
   ]
  },
  {
   "cell_type": "code",
   "execution_count": 7,
   "metadata": {},
   "outputs": [],
   "source": [
    "#  Contains the `values` in both `DataArray`s held by the xarray `Dataset`\n",
    "python_data_t = python_cfgrib_data(\"./data/era5-levels-members.grib\", \"t\")\n",
    "python_data_z = python_cfgrib_data(\"./data/era5-levels-members.grib\", \"z\")\n",
    "python_datas = Dict(\n",
    "    :t => python_data_t,\n",
    "    :z => python_data_z\n",
    ")\n",
    "\n",
    "#  Contains the `Attributes` in both `DataArray`s held by the xarray `Dataset`\n",
    "python_meta_t = python_cfgrib_metadata(\"./data/era5-levels-members.grib\", \"t\")\n",
    "python_meta_z = python_cfgrib_metadata(\"./data/era5-levels-members.grib\", \"z\")\n",
    "python_metas = Dict(\n",
    "    :t => python_meta_t,\n",
    "    :z => python_meta_z\n",
    ");"
   ]
  },
  {
   "cell_type": "markdown",
   "metadata": {},
   "source": [
    "## 2 - Creating the AxisArray"
   ]
  },
  {
   "cell_type": "code",
   "execution_count": 8,
   "metadata": {},
   "outputs": [
    {
     "name": "stdout",
     "output_type": "stream",
     "text": [
      "Data variable `t` is an Array{Float32,5} of size (10, 4, 2, 61, 120)\n",
      "With coordinates of Tuple{Tuple{Symbol},Int64}[((:number,), 10), ((:time,), 4), ((:isobaricInhPa,), 2), ((:latitude,), 61), ((:longitude,), 120)]\n"
     ]
    }
   ],
   "source": [
    "println(\"Data variable `t` is an $(typeof(python_data_t)) of size $(size(python_data_t))\")\n",
    "println(\"With coordinates of $([(axisnames(coord), length(coord)) for coord in coords])\")"
   ]
  },
  {
   "cell_type": "code",
   "execution_count": 9,
   "metadata": {},
   "outputs": [],
   "source": [
    "#  Simple to create, only requires an arrray and coordinates with data that\n",
    "#  matches the lengths of the array\n",
    "axisarray_t = AxisArray(python_data_t, coords);"
   ]
  },
  {
   "cell_type": "markdown",
   "metadata": {},
   "source": [
    "```julia\n",
    "5-dimensional AxisArray{Float32,5,...} with axes:\n",
    "    :number, [0, 1, 2, 3, 4, 5, 6, 7, 8, 9]\n",
    "    :time, DateTime[2017-01-01T00:00:00, 2017-01-01T12:00:00, 2017-01-02T00:00:00, 2017-01-02T12:00:00]\n",
    "    :isobaricInhPa, [850, 500]\n",
    "    :latitude, [90.0, 87.0, 84.0, 81.0, 78.0, 75.0, 72.0, 69.0, 66.0, 63.0  …  -63.0, -66.0, -69.0, -72.0, -75.0, -78.0, -81.0, -84.0, -87.0, -90.0]\n",
    "    :longitude, [0.0, 3.0, 6.0, 9.0, 12.0, 15.0, 18.0, 21.0, 24.0, 27.0  …  330.0, 333.0, 336.0, 339.0, 342.0, 345.0, 348.0, 351.0, 354.0, 357.0]\n",
    "And data, a 10×4×2×61×120 Array{Float32,5}:\n",
    "[:, :, 1, 1, 1] =\n",
    " 252.663  251.854  251.142  252.044\n",
    " 252.277  251.73   250.983  252.548\n",
    " 252.449  251.733  250.829  252.358\n",
    " 252.283  252.258  250.811  252.494\n",
    " 252.049  251.622  250.824  251.921\n",
    " 252.376  252.039  251.123  252.284\n",
    " 252.131  251.842  251.281  252.17 \n",
    " 252.173  251.64   251.116  252.252\n",
    " 251.714  251.768  251.422  252.368\n",
    " 251.881  251.83   250.935  252.599\n",
    "\n",
    " ...\n",
    "```"
   ]
  },
  {
   "cell_type": "markdown",
   "metadata": {},
   "source": [
    "## Using ImageMetadata to add in Attributes\n",
    "\n",
    "AxisArrays do not have metadata, here we use an `ImageMeta ` array instead as this adds a convenient metadata wrapper on top and does all of the multiple dispatch to base and AxisArrays methods"
   ]
  },
  {
   "cell_type": "code",
   "execution_count": 10,
   "metadata": {},
   "outputs": [
    {
     "data": {
      "text/plain": [
       "Float32 ImageMeta with:\n",
       "  data: 5-dimensional AxisArray{Float32,5,...} with axes:\n",
       "    :number, [0, 1, 2, 3, 4, 5, 6, 7, 8, 9]\n",
       "    :time, DateTime[2017-01-01T00:00:00, 2017-01-01T12:00:00, 2017-01-02T00:00:00, 2017-01-02T12:00:00]\n",
       "    :isobaricInhPa, [850, 500]\n",
       "    :latitude, [90.0, 87.0, 84.0, 81.0, 78.0, 75.0, 72.0, 69.0, 66.0, 63.0  …  -63.0, -66.0, -69.0, -72.0, -75.0, -78.0, -81.0, -84.0, -87.0, -90.0]\n",
       "    :longitude, [0.0, 3.0, 6.0, 9.0, 12.0, 15.0, 18.0, 21.0, 24.0, 27.0  …  330.0, 333.0, 336.0, 339.0, 342.0, 345.0, 348.0, 351.0, 354.0, 357.0]\n",
       "And data, a 10×4×2×61×120 Array{Float32,5}\n",
       "  properties:\n",
       "    GRIB_typeOfLevel: isobaricInhPa\n",
       "    long_name: Temperature\n",
       "    GRIB_dataType: an\n",
       "    GRIB_totalNumber: 10\n",
       "    GRIB_jScansPositively: 0\n",
       "    GRIB_name: Temperature\n",
       "    GRIB_gridType: regular_ll\n",
       "    GRIB_Ny: 61\n",
       "    GRIB_longitudeOfLastGridPointInDegrees: 357.0\n",
       "    GRIB_stepUnits: 1\n",
       "    GRIB_jPointsAreConsecutive: 0\n",
       "    standard_name: air_temperature\n",
       "    GRIB_jDirectionIncrementInDegrees: 3.0\n",
       "    GRIB_gridDefinitionDescription: Latitude/Longitude Grid\n",
       "    GRIB_latitudeOfLastGridPointInDegrees: -90.0\n",
       "    GRIB_shortName: t\n",
       "    GRIB_missingValue: 9999\n",
       "    GRIB_stepType: instant\n",
       "    GRIB_numberOfPoints: 7320\n",
       "    GRIB_NV: 0\n",
       "    GRIB_latitudeOfFirstGridPointInDegrees: 90.0\n",
       "    GRIB_cfName: air_temperature\n",
       "    units: K\n",
       "    GRIB_cfVarName: t\n",
       "    GRIB_Nx: 120\n",
       "    GRIB_iDirectionIncrementInDegrees: 3.0\n",
       "    GRIB_iScansNegatively: 0\n",
       "    GRIB_paramId: 130\n",
       "    GRIB_longitudeOfFirstGridPointInDegrees: 0.0\n",
       "    GRIB_units: K"
      ]
     },
     "execution_count": 10,
     "metadata": {},
     "output_type": "execute_result"
    }
   ],
   "source": [
    "#  Wraps AxisArray with a dictionary of `properties` - equivalent to `Attributes`\n",
    "imagemeta_t = ImageMeta(axisarray_t, convert(Dict{String,Any}, python_meta_t))"
   ]
  },
  {
   "cell_type": "markdown",
   "metadata": {},
   "source": [
    "## 4-  AxisArrays with Dataset Structure\n",
    "\n",
    "In python xarrays the data structure is:\n",
    "\n",
    "- a `DataArray`, which holds a single multi-dimensional variable,  its coordinates, and a metadata dictionary\n",
    "- a `Dataset`, which holds multiple variables that potentially share the same coordinates\n",
    "\n",
    "AxisArrays does not follow this model, it only has support for `AxisArray` (equivalent to `DataArray`), but no `AxisSet` exists. \n",
    "\n",
    "We need to create a similar class to the Dataset class described in the [xarray docs](https://rabernat.github.io/research_computing_2018/xarray.html#Datasets)"
   ]
  },
  {
   "cell_type": "code",
   "execution_count": 11,
   "metadata": {},
   "outputs": [],
   "source": [
    "mutable struct AxisSet\n",
    "    coords::NTuple{N, Axis} where N\n",
    "    attrs::OrderedDict\n",
    "    data::Dict{Symbol,ImageMeta }\n",
    "    \n",
    "    AxisSet(coords::NTuple{N, Axis} where N, attrs::OrderedDict) = new(coords, attrs)\n",
    "end"
   ]
  },
  {
   "cell_type": "markdown",
   "metadata": {},
   "source": [
    "The above class is made such that all of the `AxisArray`s will share the same coordinates, it also allows for 'top-level' metadata (equivalent to `Attributes` on an xarray Dataset)"
   ]
  },
  {
   "cell_type": "code",
   "execution_count": 12,
   "metadata": {},
   "outputs": [
    {
     "data": {
      "text/plain": [
       "AxisSet"
      ]
     },
     "execution_count": 12,
     "metadata": {},
     "output_type": "execute_result"
    }
   ],
   "source": [
    "function AxisSet(coords::NTuple{N, Axis} where N, attrs::OrderedDict,\n",
    "                 data::Dict{Symbol, <:Array}, meta::Dict{Symbol, <:OrderedDict})\n",
    "    \n",
    "    if any([haskey(data, k) for k in (:coords, :attrs, :data)])\n",
    "        throw(ErrorException(\"Data keys cannot be any of (:coords, :attrs, :data)\"))\n",
    "    end\n",
    "\n",
    "    axisset = AxisSet(coords, attrs)\n",
    "    imagemetas = Dict{Symbol,ImageMeta}()\n",
    "    for (v, d) in data\n",
    "        #  Create an ImageMeta array for each of the data variables\n",
    "        #  with the respective metadata attached\n",
    "        axisarray = AxisArray(d, axisset.coords)\n",
    "        imagemetas[v] = ImageMeta(axisarray, convert(Dict{String,Any}, python_metas[v]))\n",
    "    end\n",
    "\n",
    "    axisset.data = imagemetas\n",
    "    \n",
    "    return axisset\n",
    "end"
   ]
  },
  {
   "cell_type": "code",
   "execution_count": 13,
   "metadata": {},
   "outputs": [],
   "source": [
    "axisset = AxisSet(coords, python_dataset_attributes, python_datas, python_metas);"
   ]
  },
  {
   "cell_type": "code",
   "execution_count": 14,
   "metadata": {},
   "outputs": [],
   "source": [
    "#  Hacky way to allow for convenient data variable access like `obj.key`\n",
    "#  instead of the longer `obj.data.key`\n",
    "function Base.getproperty(obj::AxisSet, sym::Symbol)\n",
    "    if sym in keys(getfield(obj, :data))\n",
    "        return getindex(getfield(obj, :data), sym)\n",
    "    else\n",
    "        return getfield(obj, sym)\n",
    "    end\n",
    "end"
   ]
  },
  {
   "cell_type": "code",
   "execution_count": 15,
   "metadata": {},
   "outputs": [
    {
     "data": {
      "text/plain": [
       "Float32 ImageMeta with:\n",
       "  data: 5-dimensional AxisArray{Float32,5,...} with axes:\n",
       "    :number, [0, 1, 2, 3, 4, 5, 6, 7, 8, 9]\n",
       "    :time, DateTime[2017-01-01T00:00:00, 2017-01-01T12:00:00, 2017-01-02T00:00:00, 2017-01-02T12:00:00]\n",
       "    :isobaricInhPa, [850, 500]\n",
       "    :latitude, [90.0, 87.0, 84.0, 81.0, 78.0, 75.0, 72.0, 69.0, 66.0, 63.0  …  -63.0, -66.0, -69.0, -72.0, -75.0, -78.0, -81.0, -84.0, -87.0, -90.0]\n",
       "    :longitude, [0.0, 3.0, 6.0, 9.0, 12.0, 15.0, 18.0, 21.0, 24.0, 27.0  …  330.0, 333.0, 336.0, 339.0, 342.0, 345.0, 348.0, 351.0, 354.0, 357.0]\n",
       "And data, a 10×4×2×61×120 Array{Float32,5}\n",
       "  properties:\n",
       "    GRIB_typeOfLevel: isobaricInhPa\n",
       "    long_name: Temperature\n",
       "    GRIB_dataType: an\n",
       "    GRIB_totalNumber: 10\n",
       "    GRIB_jScansPositively: 0\n",
       "    GRIB_name: Temperature\n",
       "    GRIB_gridType: regular_ll\n",
       "    GRIB_Ny: 61\n",
       "    GRIB_longitudeOfLastGridPointInDegrees: 357.0\n",
       "    GRIB_stepUnits: 1\n",
       "    GRIB_jPointsAreConsecutive: 0\n",
       "    standard_name: air_temperature\n",
       "    GRIB_jDirectionIncrementInDegrees: 3.0\n",
       "    GRIB_gridDefinitionDescription: Latitude/Longitude Grid\n",
       "    GRIB_latitudeOfLastGridPointInDegrees: -90.0\n",
       "    GRIB_shortName: t\n",
       "    GRIB_missingValue: 9999\n",
       "    GRIB_stepType: instant\n",
       "    GRIB_numberOfPoints: 7320\n",
       "    GRIB_NV: 0\n",
       "    GRIB_latitudeOfFirstGridPointInDegrees: 90.0\n",
       "    GRIB_cfName: air_temperature\n",
       "    units: K\n",
       "    GRIB_cfVarName: t\n",
       "    GRIB_Nx: 120\n",
       "    GRIB_iDirectionIncrementInDegrees: 3.0\n",
       "    GRIB_iScansNegatively: 0\n",
       "    GRIB_paramId: 130\n",
       "    GRIB_longitudeOfFirstGridPointInDegrees: 0.0\n",
       "    GRIB_units: K"
      ]
     },
     "execution_count": 15,
     "metadata": {},
     "output_type": "execute_result"
    }
   ],
   "source": [
    "axisset.t"
   ]
  },
  {
   "cell_type": "code",
   "execution_count": 16,
   "metadata": {},
   "outputs": [
    {
     "data": {
      "text/plain": [
       "OrderedDict{Any,Any} with 7 entries:\n",
       "  \"Conventions\"            => \"CF-1.7\"\n",
       "  \"history\"                => \"2019-12-31T02:18:03 GRIB to CDM+CF via cfgrib-0.…\n",
       "  \"GRIB_edition\"           => 1\n",
       "  \"GRIB_centreDescription\" => \"European Centre for Medium-Range Weather Forecas…\n",
       "  \"institution\"            => \"European Centre for Medium-Range Weather Forecas…\n",
       "  \"GRIB_subCentre\"         => 0\n",
       "  \"GRIB_centre\"            => \"ecmf\""
      ]
     },
     "execution_count": 16,
     "metadata": {},
     "output_type": "execute_result"
    }
   ],
   "source": [
    "#  Metadata access like in ImageMetadata\n",
    "ImageMetadata.properties(obj::AxisSet) = obj.attrs\n",
    "\n",
    "#  Accesses equivalent of dataset-level attributes in xarrays\n",
    "properties(axisset)"
   ]
  },
  {
   "cell_type": "code",
   "execution_count": 17,
   "metadata": {},
   "outputs": [
    {
     "data": {
      "text/plain": [
       "Dict{String,Any} with 30 entries:\n",
       "  \"GRIB_typeOfLevel\"                       => \"isobaricInhPa\"\n",
       "  \"long_name\"                              => \"Temperature\"\n",
       "  \"GRIB_dataType\"                          => \"an\"\n",
       "  \"GRIB_totalNumber\"                       => 10\n",
       "  \"GRIB_jScansPositively\"                  => 0\n",
       "  \"GRIB_name\"                              => \"Temperature\"\n",
       "  \"GRIB_gridType\"                          => \"regular_ll\"\n",
       "  \"GRIB_Ny\"                                => 61\n",
       "  \"GRIB_longitudeOfLastGridPointInDegrees\" => 357.0\n",
       "  \"GRIB_stepUnits\"                         => 1\n",
       "  \"GRIB_jPointsAreConsecutive\"             => 0\n",
       "  \"standard_name\"                          => \"air_temperature\"\n",
       "  \"GRIB_jDirectionIncrementInDegrees\"      => 3.0\n",
       "  \"GRIB_gridDefinitionDescription\"         => \"Latitude/Longitude Grid\"\n",
       "  \"GRIB_latitudeOfLastGridPointInDegrees\"  => -90.0\n",
       "  \"GRIB_shortName\"                         => \"t\"\n",
       "  \"GRIB_missingValue\"                      => 9999\n",
       "  \"GRIB_stepType\"                          => \"instant\"\n",
       "  \"GRIB_numberOfPoints\"                    => 7320\n",
       "  \"GRIB_NV\"                                => 0\n",
       "  \"GRIB_latitudeOfFirstGridPointInDegrees\" => 90.0\n",
       "  \"GRIB_cfName\"                            => \"air_temperature\"\n",
       "  \"units\"                                  => \"K\"\n",
       "  \"GRIB_cfVarName\"                         => \"t\"\n",
       "  \"GRIB_Nx\"                                => 120\n",
       "  ⋮                                        => ⋮"
      ]
     },
     "execution_count": 17,
     "metadata": {},
     "output_type": "execute_result"
    }
   ],
   "source": [
    "properties(axisset.t)"
   ]
  },
  {
   "cell_type": "code",
   "execution_count": 18,
   "metadata": {},
   "outputs": [],
   "source": [
    "#  Basic show which looks similar to what xarrays displays\n",
    "function Base.show(io::IO, m::AxisSet)\n",
    "    println(io, \"AxisSet with: $(length(m.data)) data variables:\")\n",
    "\n",
    "    dimensions = [\"$(axisnames(x)[1]): $(length(x))\" for x in m.coords]\n",
    "    println(io, \"  Dimensions: \\t $(join(dimensions, \", \"))\")\n",
    "\n",
    "    println(io, \"  Data variables:\")\n",
    "    [println(io, \"  \\t$k: $(typeof(m.data[:t]).types[1].types[1])$(size(d))\") for (k, d) in m.data]\n",
    "\n",
    "    attributes = properties(m)\n",
    "    println(io, \"  Attributes:\")\n",
    "    println(io, \"  \\t$(typeof(attributes)) with $(length(attributes)) entries:\")\n",
    "    attributes_str = [join(\"$(repr(k)) => $(repr(v))\") for (k, v) in properties(axisset)]\n",
    "    if length(attributes_str) > 5; attributes_str = attributes_str[1:5]; end\n",
    "    [println(io, \"  \\t  $str\") for str in attributes_str]\n",
    "\n",
    "    return nothing\n",
    "end"
   ]
  },
  {
   "cell_type": "code",
   "execution_count": 19,
   "metadata": {},
   "outputs": [
    {
     "data": {
      "text/plain": [
       "AxisSet with: 2 data variables:\n",
       "  Dimensions: \t number: 10, time: 4, isobaricInhPa: 2, latitude: 61, longitude: 120\n",
       "  Data variables:\n",
       "  \tz: Array{Float32,5}(10, 4, 2, 61, 120)\n",
       "  \tt: Array{Float32,5}(10, 4, 2, 61, 120)\n",
       "  Attributes:\n",
       "  \tOrderedDict{Any,Any} with 7 entries:\n",
       "  \t  \"Conventions\" => \"CF-1.7\"\n",
       "  \t  \"history\" => \"2019-12-31T02:18:03 GRIB to CDM+CF via cfgrib-0.9.7.3/ecCodes-2.13.1 with {\\\"source\\\": \\\"/home/roscar/work/cfgrib-julia-notebooks/data/era5-levels-members.grib\\\", \\\"filter_by_keys\\\": {}, \\\"encode_cf\\\": [\\\"parameter\\\", \\\"time\\\", \\\"geography\\\", \\\"vertical\\\"]}\"\n",
       "  \t  \"GRIB_edition\" => 1\n",
       "  \t  \"GRIB_centreDescription\" => \"European Centre for Medium-Range Weather Forecasts\"\n",
       "  \t  \"institution\" => \"European Centre for Medium-Range Weather Forecasts\"\n"
      ]
     },
     "execution_count": 19,
     "metadata": {},
     "output_type": "execute_result"
    }
   ],
   "source": [
    "axisset"
   ]
  },
  {
   "cell_type": "markdown",
   "metadata": {},
   "source": [
    "Overall this is all extremely rough and would not reliable to use, however it does demonstrate that it is in principle relatively simple to add the required functionality on top of existing packages like `AxisArrays` and `ImageMetadata`.\n",
    "\n",
    "However I believe that none of these additional features, like metadata and collections of AxisArrays, should exist/be maintained in this cfgrib package.\n",
    "\n",
    "My plan is to develop them here, as they are essential features which should be a part of any package aiming to provide similar functionality to xarray, and then merge any developments back into their respective packages.\n",
    "\n",
    "This will help show the development community that these features are desired, should be maintained, and should be present in any future packages like the proposed replacement of AxisArrays, or `DimensionalArrayTraits`, or any other similar multidimensional-arrays-with-coordinates package."
   ]
  }
 ],
 "metadata": {
  "kernelspec": {
   "display_name": "Julia 1.2.0",
   "language": "julia",
   "name": "julia-1.2"
  },
  "language_info": {
   "file_extension": ".jl",
   "mimetype": "application/julia",
   "name": "julia",
   "version": "1.2.0"
  }
 },
 "nbformat": 4,
 "nbformat_minor": 4
}
