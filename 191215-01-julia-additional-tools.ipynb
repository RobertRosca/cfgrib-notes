{
 "cells": [
  {
   "cell_type": "markdown",
   "metadata": {},
   "source": [
    "# Intro\n",
    "\n",
    "Additionally it is interesting to look at:\n",
    "\n",
    " - [ ] [JuliaIO](https://github.com/JuliaIO) \n",
    "     - Group of packages which access various file types in a unified way\n",
    " - [ ] [JuliaDB](https://github.com/JuliaComputing/JuliaDB.jl)\n",
    "     - Provides scalable data analysis similar to Dask\n",
    " - [ ] [Unitful.jl](https://github.com/PainterQubits/Unitful.jl)\n",
    "     - Could be used to add units to the data itself"
   ]
  },
  {
   "cell_type": "markdown",
   "metadata": {},
   "source": [
    "## JuliaIO\n",
    "\n",
    "https://github.com/JuliaIO\n",
    "\n",
    "> Group for a unified IO infrastructure\n",
    "\n",
    "The common framework is handled by `FileIO`: https://github.com/JuliaIO/FileIO.jl\n",
    "\n",
    "> FileIO aims to provide a common framework for detecting file formats and dispatching to appropriate readers/writers. The two core functions in this package are called `load` and `save`, and offer high-level support for formatted files (in contrast with julia's low-level `read` and `write`). To avoid name conflicts, packages that provide support for standard file formats through functions named `load` and `save` are encouraged to extend the definitions here.\n",
    "\n",
    "Currently supports 46 different file formats: https://github.com/JuliaIO/FileIO.jl/blob/master/docs/registry.md\n",
    "\n",
    "Defines a standard way to deal with bigger-than-ram data:\n",
    "\n",
    "> Sometimes you want to read or write files that are larger than your available memory, or might be an unknown or infinite length (e.g. reading an audio or video stream from a socket). In these cases it might not make sense to process the whole file at once, but instead process it a chunk at a time. For these situations FileIO provides the loadstreaming and savestreaming functions, which return an object that you can read or write, rather than the file data itself.\n",
    "\n",
    "Implementing your own file format and adding it to the registry of available formats is simple. May be worth integrating into FileIO, as this would allow easy interoperability with any other packages that build on top of FileIO as well"
   ]
  },
  {
   "cell_type": "markdown",
   "metadata": {},
   "source": [
    "## JuliaDB\n",
    "\n",
    "https://github.com/JuliaComputing/JuliaDB.jl \\& https://juliadb.org/\n",
    "\n",
    "> JuliaDB is a package for working with persistent data sets.\n",
    "> \n",
    "> We recognized the need for an all-Julia, end-to-end tool that can\n",
    "> \n",
    ">  1. Load multi-dimensional datasets quickly and incrementally.\n",
    ">  2. Index the data and perform filter, aggregate, sort and join operations.\n",
    ">  3. Save results and load them efficiently later.\n",
    ">  4. Readily use Julia's built-in parallelism to fully utilize any machine or cluster.\n",
    "> \n",
    "> We built JuliaDB to fill this void.\n",
    "> JuliaDB provides distributed table and array datastructures with convenient functions to load data from CSV. JuliaDB is Julia all the way down. This means queries can be composed with Julia code that may use a vast ecosystem of packages.\n",
    "\n",
    "The distributed table and out-of-core integration is very nice, however JuliaDB focuses on csv-like data with multiple columns, not n-dimensional arrays, and as such does not have many features present in xarrays"
   ]
  },
  {
   "cell_type": "markdown",
   "metadata": {},
   "source": [
    "## Unitful.jl\n",
    "\n",
    "https://github.com/PainterQubits/Unitful.jl\n",
    "\n",
    "> Unitful is a Julia package for physical units. We want to support not only SI units but also any other unit system. We also want to minimize or in some cases eliminate the run-time penalty of units. There should be facilities for dimensional analysis. All of this should integrate easily with the usual mathematical operations and collections that are found in Julia base.\n",
    "\n",
    "Having the units be built-in to the array can be very useful for plotting, dispatching, error propagation, etc... however it's not clear if this is required or would be used"
   ]
  }
 ],
 "metadata": {
  "kernelspec": {
   "display_name": "Julia 1.2.0",
   "language": "julia",
   "name": "julia-1.2"
  },
  "language_info": {
   "file_extension": ".jl",
   "mimetype": "application/julia",
   "name": "julia",
   "version": "1.2.0"
  }
 },
 "nbformat": 4,
 "nbformat_minor": 4
}
