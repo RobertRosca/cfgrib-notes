{
 "cells": [
  {
   "cell_type": "code",
   "execution_count": 1,
   "metadata": {},
   "outputs": [
    {
     "name": "stdout",
     "output_type": "stream",
     "text": [
      "\u001b[32m\u001b[1mActivating\u001b[22m\u001b[39m environment at `~/work/cfgrib-julia-notebooks/binder/Project.toml`\n"
     ]
    }
   ],
   "source": [
    "using Pkg; Pkg.activate(\"./binder/\")"
   ]
  },
  {
   "cell_type": "markdown",
   "metadata": {},
   "source": [
    "# Intro\n",
    "\n",
    "This notebook goes through the following climate/grib-related packages:\n",
    "\n",
    " - [ClimateTools.jl](https://github.com/Balinus/ClimateTools.jl)\n",
    "    - Defines CF-compliant ClimGrid type\n",
    " - [GRIB.jl](https://github.com/weech/GRIB.jl)\n",
    "    - Uses ecCodes library, loads GRIB files in series message-by-message\n",
    "    - Has filtering functionality to only load in specific keys\n",
    " - [GDAL.jl](https://github.com/JuliaGeo/GDAL.jl)\n",
    " - [ArchGDAL.jl](https://github.com/yeesian/ArchGDAL.jl)\n",
    " - [ICOADSDict](https://github.com/JuliaAtmosOcean/ICOADSDict.jl)\n",
    "\n",
    "## Conclusion\n",
    "\n",
    "[GRIB.jl](https://github.com/weech/GRIB.jl) is a package which calls the ecCodes to read GRIB files.\n",
    "\n",
    "As per the readme:\n",
    "\n",
    "> A GribFile functions similarly to a Julia IOStream, except that instead of working as a stream of bytes, GribFile works as a stream of messages.\n",
    "\n",
    "It may be possible to use `GRIB.jl` to load in the data, then place it into an `AxisArray` and add in the metadata as it streams in. This situation where the types of data may only become clear later as the data streams in would be a place where `SimpleTraits.jl` could help ensure correct typing."
   ]
  },
  {
   "cell_type": "markdown",
   "metadata": {},
   "source": [
    "## ClimateTools.jl\n",
    "\n",
    "https://github.com/Balinus/ClimateTools.jl\n",
    "\n",
    "> ClimateTools.jl is a collection of commonly-used tools in Climate science. Basics of climate field analysis are covered, with some forays into exploratory techniques associated with climate scenarios design. The package is aimed to ease the typical steps of analysis climate models outputs and gridded datasets (support for weather stations is a work-in-progress).\n",
    "> \n",
    "> Climate indices and bias correction functions are coded to leverage the use of multiple threads. To gain maximum performance, use (bash shell Linux/MacOSX) export JULIA_NUM_THREADS=n, where n is the number of threads. To get an idea of the number of threads you can use type (in Julia) Sys.THREADS. This is especially useful for bias correction."
   ]
  },
  {
   "cell_type": "markdown",
   "metadata": {},
   "source": [
    "### Features:\n",
    "\n",
    "> Climate scenarios creation\n",
    "> Extraction and visualization of CF-compliant netCDF datasets\n",
    "> Custom user-provided polygons and start and end date for localized studies\n",
    "> Climate indices from The joint CCl/CLIVAR/JCOMM Expert Team (ET) on Climate Change Detection and Indices (ETCCDI) as well as custom climate indices\n",
    "> Regridding of a datasets onto another grid\n",
    "> Post-processing of climate timeseries using Quantile-Quantile mapping method (cf. Themeßl et al. 2012, Piani et al. 2010)\n",
    "> Exportation of results to a CF-compliant netCDF file\n",
    "> Support for typical climate models calendars: 360day, 365day, Standard, Prolectip Gregorian through NCDatasets.jl.\n",
    "> Support for physical units through the Unitful.jl package.\n",
    "\n",
    "\n",
    "Provides a `ClimGrid` CF-compliant type:\n",
    "\n",
    "```julia\n",
    "struct ClimGrid\n",
    "  data::AxisArray # labeled axis\n",
    "  longrid::AbstractArray{N,2} where N # the longitude grid\n",
    "  latgrid::AbstractArray{N,2} where N # the latitude grid\n",
    "  msk::Array{N, 2} where N\n",
    "  grid_mapping::Dict # bindings of native grid\n",
    "  dimension_dict::Dict\n",
    "  model::String\n",
    "  frequency::String\n",
    "  experiment::String\n",
    "  run::String\n",
    "  project::String # CORDEX, CMIP5, etc.\n",
    "  institute::String\n",
    "  filename::String\n",
    "  dataunits::String\n",
    "  latunits::String # of the coordinate variable\n",
    "  lonunits::String # of the coordinate variable\n",
    "  variable::String # Type of variable (i.e. can be the same as \"var\", but it is changed when calculating indices)\n",
    "  typeofvar::String # Variable type (e.g. tasmax, tasmin, pr)\n",
    "  typeofcal::String # Calendar type\n",
    "  timeattrib::Dict # Time attributes\n",
    "  varattribs::Dict # Variable attributes\n",
    "  globalattribs::Dict # Global attributes\n",
    "end\n",
    "```\n",
    "\n",
    "Provides interpolation functions **by wrapping scipy griddata functions**\n",
    "\n",
    "Provides bias correction as per *Themeßl et al. 2012*, *Grenier et al. 2015*\n",
    "\n",
    "Integrated visualisation tools: https://balinus.github.io/ClimateTools.jl/stable/maps/"
   ]
  },
  {
   "cell_type": "markdown",
   "metadata": {},
   "source": [
    "## GRIB.jl\n",
    "\n",
    "https://github.com/weech/GRIB.jl\n",
    "\n",
    "> The Gridded Binary (GRIB) format is a format commonly used in meteorology. A GRIB file is a collection of independent records that store 2D data. **This package is an interface to the ECMWF ecCodes library**. In ecCodes, each GRIB file is composed of a series of messages, and a message is an object with keys and values. Each message has many keys. Some are actually stored in the data, while others are computed by ecCodes on access. Some commonly used keys include:"
   ]
  },
  {
   "cell_type": "code",
   "execution_count": 2,
   "metadata": {},
   "outputs": [],
   "source": [
    "using GRIB"
   ]
  },
  {
   "cell_type": "code",
   "execution_count": 3,
   "metadata": {},
   "outputs": [
    {
     "data": {
      "text/plain": [
       "GribFile ./data/era5-levels-members.grib at position 0 in mode r"
      ]
     },
     "execution_count": 3,
     "metadata": {},
     "output_type": "execute_result"
    }
   ],
   "source": [
    "f = GribFile(\"./data/era5-levels-members.grib\")"
   ]
  },
  {
   "cell_type": "markdown",
   "metadata": {},
   "source": [
    "> A GribFile functions similarly to a Julia IOStream, except that instead of working as a stream of bytes, GribFile works as a stream of messages."
   ]
  },
  {
   "cell_type": "code",
   "execution_count": 4,
   "metadata": {},
   "outputs": [
    {
     "data": {
      "text/html": [
       "11-element Array{Method,1}:<ul><li> eltype(f::<b>GribFile</b>) in GRIB at <a href=\"file:///home/roscar/.julia/packages/GRIB/MoOdx/src/gribfile.jl\" target=\"_blank\">/home/roscar/.julia/packages/GRIB/MoOdx/src/gribfile.jl:67</a><li> iterate(f::<b>GribFile</b>) in GRIB at <a href=\"file:///home/roscar/.julia/packages/GRIB/MoOdx/src/gribfile.jl\" target=\"_blank\">/home/roscar/.julia/packages/GRIB/MoOdx/src/gribfile.jl:59</a><li> iterate(f::<b>GribFile</b>, state) in GRIB at <a href=\"file:///home/roscar/.julia/packages/GRIB/MoOdx/src/gribfile.jl\" target=\"_blank\">/home/roscar/.julia/packages/GRIB/MoOdx/src/gribfile.jl:59</a><li> position(f::<b>GribFile</b>) in GRIB at <a href=\"file:///home/roscar/.julia/packages/GRIB/MoOdx/src/gribfile.jl\" target=\"_blank\">/home/roscar/.julia/packages/GRIB/MoOdx/src/gribfile.jl:108</a><li> read(f::<b>GribFile</b>) in GRIB at <a href=\"file:///home/roscar/.julia/packages/GRIB/MoOdx/src/gribfile.jl\" target=\"_blank\">/home/roscar/.julia/packages/GRIB/MoOdx/src/gribfile.jl:101</a><li> read(f::<b>GribFile</b>, nm::<b>Integer</b>) in GRIB at <a href=\"file:///home/roscar/.julia/packages/GRIB/MoOdx/src/gribfile.jl\" target=\"_blank\">/home/roscar/.julia/packages/GRIB/MoOdx/src/gribfile.jl:92</a><li> seek(f::<b>GribFile</b>, n::<b>Integer</b>) in GRIB at <a href=\"file:///home/roscar/.julia/packages/GRIB/MoOdx/src/gribfile.jl\" target=\"_blank\">/home/roscar/.julia/packages/GRIB/MoOdx/src/gribfile.jl:116</a><li> seekstart(f::<b>GribFile</b>) in GRIB at <a href=\"file:///home/roscar/.julia/packages/GRIB/MoOdx/src/gribfile.jl\" target=\"_blank\">/home/roscar/.julia/packages/GRIB/MoOdx/src/gribfile.jl:70</a><li> show(io::<b>IO</b>, mime::<b>MIME{Symbol(\"text/plain\")}</b>, f::<b>GribFile</b>) in GRIB at <a href=\"file:///home/roscar/.julia/packages/GRIB/MoOdx/src/gribfile.jl\" target=\"_blank\">/home/roscar/.julia/packages/GRIB/MoOdx/src/gribfile.jl:165</a><li> skip(f::<b>GribFile</b>, offset::<b>Integer</b>) in GRIB at <a href=\"file:///home/roscar/.julia/packages/GRIB/MoOdx/src/gribfile.jl\" target=\"_blank\">/home/roscar/.julia/packages/GRIB/MoOdx/src/gribfile.jl:133</a><li> destroy(f::<b>GribFile</b>) in GRIB at <a href=\"file:///home/roscar/.julia/packages/GRIB/MoOdx/src/gribfile.jl\" target=\"_blank\">/home/roscar/.julia/packages/GRIB/MoOdx/src/gribfile.jl:150</a></ul>"
      ],
      "text/plain": [
       "[1] eltype(f::GribFile) in GRIB at /home/roscar/.julia/packages/GRIB/MoOdx/src/gribfile.jl:67\n",
       "[2] iterate(f::GribFile) in GRIB at /home/roscar/.julia/packages/GRIB/MoOdx/src/gribfile.jl:59\n",
       "[3] iterate(f::GribFile, state) in GRIB at /home/roscar/.julia/packages/GRIB/MoOdx/src/gribfile.jl:59\n",
       "[4] position(f::GribFile) in GRIB at /home/roscar/.julia/packages/GRIB/MoOdx/src/gribfile.jl:108\n",
       "[5] read(f::GribFile) in GRIB at /home/roscar/.julia/packages/GRIB/MoOdx/src/gribfile.jl:101\n",
       "[6] read(f::GribFile, nm::Integer) in GRIB at /home/roscar/.julia/packages/GRIB/MoOdx/src/gribfile.jl:92\n",
       "[7] seek(f::GribFile, n::Integer) in GRIB at /home/roscar/.julia/packages/GRIB/MoOdx/src/gribfile.jl:116\n",
       "[8] seekstart(f::GribFile) in GRIB at /home/roscar/.julia/packages/GRIB/MoOdx/src/gribfile.jl:70\n",
       "[9] show(io::IO, mime::MIME{Symbol(\"text/plain\")}, f::GribFile) in GRIB at /home/roscar/.julia/packages/GRIB/MoOdx/src/gribfile.jl:165\n",
       "[10] skip(f::GribFile, offset::Integer) in GRIB at /home/roscar/.julia/packages/GRIB/MoOdx/src/gribfile.jl:133\n",
       "[11] destroy(f::GribFile) in GRIB at /home/roscar/.julia/packages/GRIB/MoOdx/src/gribfile.jl:150"
      ]
     },
     "execution_count": 4,
     "metadata": {},
     "output_type": "execute_result"
    }
   ],
   "source": [
    "methodswith(GribFile)"
   ]
  },
  {
   "cell_type": "code",
   "execution_count": 5,
   "metadata": {},
   "outputs": [
    {
     "data": {
      "text/plain": [
       "date     gridType       stepRange typeOfLevel       level shortName name\n",
       "20170101 regular_ll     0         isobaricInhPa     500   z         Geopotential"
      ]
     },
     "execution_count": 5,
     "metadata": {},
     "output_type": "execute_result"
    }
   ],
   "source": [
    "m = Message(f)"
   ]
  },
  {
   "cell_type": "code",
   "execution_count": 6,
   "metadata": {},
   "outputs": [
    {
     "data": {
      "text/html": [
       "26-element Array{Method,1}:<ul><li> deepcopy(handle::<b>Message</b>) in GRIB at <a href=\"file:///home/roscar/.julia/packages/GRIB/MoOdx/src/message.jl\" target=\"_blank\">/home/roscar/.julia/packages/GRIB/MoOdx/src/message.jl:326</a><li> getindex(handle::<b>Message</b>, key::<b>AbstractString</b>) in GRIB at <a href=\"file:///home/roscar/.julia/packages/GRIB/MoOdx/src/message.jl\" target=\"_blank\">/home/roscar/.julia/packages/GRIB/MoOdx/src/message.jl:184</a><li> haskey(msg::<b>Message</b>, key::<b>AbstractString</b>) in GRIB at <a href=\"file:///home/roscar/.julia/packages/GRIB/MoOdx/src/message.jl\" target=\"_blank\">/home/roscar/.julia/packages/GRIB/MoOdx/src/message.jl:113</a><li> iterate(iter::<b>Message</b>) in GRIB at <a href=\"file:///home/roscar/.julia/packages/GRIB/MoOdx/src/messageiters.jl\" target=\"_blank\">/home/roscar/.julia/packages/GRIB/MoOdx/src/messageiters.jl:53</a><li> iterate(iter::<b>Message</b>, state) in GRIB at <a href=\"file:///home/roscar/.julia/packages/GRIB/MoOdx/src/messageiters.jl\" target=\"_blank\">/home/roscar/.julia/packages/GRIB/MoOdx/src/messageiters.jl:53</a><li> keys(handle::<b>Message</b>) in GRIB at <a href=\"file:///home/roscar/.julia/packages/GRIB/MoOdx/src/messageiters.jl\" target=\"_blank\">/home/roscar/.julia/packages/GRIB/MoOdx/src/messageiters.jl:75</a><li> setindex!(handle::<b>Message</b>, value::<b>Integer</b>, key::<b>AbstractString</b>) in GRIB at <a href=\"file:///home/roscar/.julia/packages/GRIB/MoOdx/src/message.jl\" target=\"_blank\">/home/roscar/.julia/packages/GRIB/MoOdx/src/message.jl:261</a><li> setindex!(handle::<b>Message</b>, value::<b>AbstractFloat</b>, key::<b>AbstractString</b>) in GRIB at <a href=\"file:///home/roscar/.julia/packages/GRIB/MoOdx/src/message.jl\" target=\"_blank\">/home/roscar/.julia/packages/GRIB/MoOdx/src/message.jl:267</a><li> setindex!(handle::<b>Message</b>, value::<b>AbstractString</b>, key::<b>AbstractString</b>) in GRIB at <a href=\"file:///home/roscar/.julia/packages/GRIB/MoOdx/src/message.jl\" target=\"_blank\">/home/roscar/.julia/packages/GRIB/MoOdx/src/message.jl:273</a><li> setindex!(handle::<b>Message</b>, value::<b>Array{UInt8,1}</b>, key::<b>AbstractString</b>) in GRIB at <a href=\"file:///home/roscar/.julia/packages/GRIB/MoOdx/src/message.jl\" target=\"_blank\">/home/roscar/.julia/packages/GRIB/MoOdx/src/message.jl:281</a><li> setindex!(handle::<b>Message</b>, value::<b>Array{Float64,N} where N</b>, key::<b>AbstractString</b>) in GRIB at <a href=\"file:///home/roscar/.julia/packages/GRIB/MoOdx/src/message.jl\" target=\"_blank\">/home/roscar/.julia/packages/GRIB/MoOdx/src/message.jl:289</a><li> setindex!(handle::<b>Message</b>, value::<b>Array{Int64,N} where N</b>, key::<b>AbstractString</b>) in GRIB at <a href=\"file:///home/roscar/.julia/packages/GRIB/MoOdx/src/message.jl\" target=\"_blank\">/home/roscar/.julia/packages/GRIB/MoOdx/src/message.jl:297</a><li> setindex!(handle::<b>Message</b>, value::<b>Array{String,N} where N</b>, key::<b>AbstractString</b>) in GRIB at <a href=\"file:///home/roscar/.julia/packages/GRIB/MoOdx/src/message.jl\" target=\"_blank\">/home/roscar/.julia/packages/GRIB/MoOdx/src/message.jl:305</a><li> show(io::<b>IO</b>, mime::<b>MIME{Symbol(\"text/plain\")}</b>, message::<b>Message</b>) in GRIB at <a href=\"file:///home/roscar/.julia/packages/GRIB/MoOdx/src/message.jl\" target=\"_blank\">/home/roscar/.julia/packages/GRIB/MoOdx/src/message.jl:373</a><li> show(io::<b>IO</b>, message::<b>Message</b>) in GRIB at <a href=\"file:///home/roscar/.julia/packages/GRIB/MoOdx/src/message.jl\" target=\"_blank\">/home/roscar/.julia/packages/GRIB/MoOdx/src/message.jl:383</a><li> values(handle::<b>Message</b>) in GRIB at <a href=\"file:///home/roscar/.julia/packages/GRIB/MoOdx/src/messageiters.jl\" target=\"_blank\">/home/roscar/.julia/packages/GRIB/MoOdx/src/messageiters.jl:93</a><li> clone(handle::<b>Message</b>) in GRIB at <a href=\"file:///home/roscar/.julia/packages/GRIB/MoOdx/src/message.jl\" target=\"_blank\">/home/roscar/.julia/packages/GRIB/MoOdx/src/message.jl:314</a><li> data(handle::<b>Message</b>) in GRIB at <a href=\"file:///home/roscar/.julia/packages/GRIB/MoOdx/src/message.jl\" target=\"_blank\">/home/roscar/.julia/packages/GRIB/MoOdx/src/message.jl:343</a><li> destroy(handle::<b>Message</b>) in GRIB at <a href=\"file:///home/roscar/.julia/packages/GRIB/MoOdx/src/message.jl\" target=\"_blank\">/home/roscar/.julia/packages/GRIB/MoOdx/src/message.jl:364</a><li> eachpoint(handle::<b>Message</b>) in GRIB at <a href=\"file:///home/roscar/.julia/packages/GRIB/MoOdx/src/messageiters.jl\" target=\"_blank\">/home/roscar/.julia/packages/GRIB/MoOdx/src/messageiters.jl:126</a><li> find(near::<b>Nearest</b>, handle::<b>Message</b>, inlon, inlat) in GRIB at <a href=\"file:///home/roscar/.julia/packages/GRIB/MoOdx/src/nearest.jl\" target=\"_blank\">/home/roscar/.julia/packages/GRIB/MoOdx/src/nearest.jl:62</a><li> findmultiple(handle::<b>Message</b>, inlons::<b>Array{Float64,1}</b>, inlats::<b>Array{Float64,1}</b>) in GRIB at <a href=\"file:///home/roscar/.julia/packages/GRIB/MoOdx/src/nearest.jl\" target=\"_blank\">/home/roscar/.julia/packages/GRIB/MoOdx/src/nearest.jl:96</a><li> getbytes(message::<b>Message</b>) in GRIB at <a href=\"file:///home/roscar/.julia/packages/GRIB/MoOdx/src/message.jl\" target=\"_blank\">/home/roscar/.julia/packages/GRIB/MoOdx/src/message.jl:90</a><li> maskedvalues(msg::<b>Message</b>) in GRIB at <a href=\"file:///home/roscar/.julia/packages/GRIB/MoOdx/src/message.jl\" target=\"_blank\">/home/roscar/.julia/packages/GRIB/MoOdx/src/message.jl:140</a><li> missingvalue(msg::<b>Message</b>) in GRIB at <a href=\"file:///home/roscar/.julia/packages/GRIB/MoOdx/src/message.jl\" target=\"_blank\">/home/roscar/.julia/packages/GRIB/MoOdx/src/message.jl:127</a><li> writemessage(handle::<b>Message</b>, filename::<b>AbstractString</b>) in GRIB at <a href=\"file:///home/roscar/.julia/packages/GRIB/MoOdx/src/message.jl\" target=\"_blank\">/home/roscar/.julia/packages/GRIB/MoOdx/src/message.jl:107</a></ul>"
      ],
      "text/plain": [
       "[1] deepcopy(handle::Message) in GRIB at /home/roscar/.julia/packages/GRIB/MoOdx/src/message.jl:326\n",
       "[2] getindex(handle::Message, key::AbstractString) in GRIB at /home/roscar/.julia/packages/GRIB/MoOdx/src/message.jl:184\n",
       "[3] haskey(msg::Message, key::AbstractString) in GRIB at /home/roscar/.julia/packages/GRIB/MoOdx/src/message.jl:113\n",
       "[4] iterate(iter::Message) in GRIB at /home/roscar/.julia/packages/GRIB/MoOdx/src/messageiters.jl:53\n",
       "[5] iterate(iter::Message, state) in GRIB at /home/roscar/.julia/packages/GRIB/MoOdx/src/messageiters.jl:53\n",
       "[6] keys(handle::Message) in GRIB at /home/roscar/.julia/packages/GRIB/MoOdx/src/messageiters.jl:75\n",
       "[7] setindex!(handle::Message, value::Integer, key::AbstractString) in GRIB at /home/roscar/.julia/packages/GRIB/MoOdx/src/message.jl:261\n",
       "[8] setindex!(handle::Message, value::AbstractFloat, key::AbstractString) in GRIB at /home/roscar/.julia/packages/GRIB/MoOdx/src/message.jl:267\n",
       "[9] setindex!(handle::Message, value::AbstractString, key::AbstractString) in GRIB at /home/roscar/.julia/packages/GRIB/MoOdx/src/message.jl:273\n",
       "[10] setindex!(handle::Message, value::Array{UInt8,1}, key::AbstractString) in GRIB at /home/roscar/.julia/packages/GRIB/MoOdx/src/message.jl:281\n",
       "[11] setindex!(handle::Message, value::Array{Float64,N} where N, key::AbstractString) in GRIB at /home/roscar/.julia/packages/GRIB/MoOdx/src/message.jl:289\n",
       "[12] setindex!(handle::Message, value::Array{Int64,N} where N, key::AbstractString) in GRIB at /home/roscar/.julia/packages/GRIB/MoOdx/src/message.jl:297\n",
       "[13] setindex!(handle::Message, value::Array{String,N} where N, key::AbstractString) in GRIB at /home/roscar/.julia/packages/GRIB/MoOdx/src/message.jl:305\n",
       "[14] show(io::IO, mime::MIME{Symbol(\"text/plain\")}, message::Message) in GRIB at /home/roscar/.julia/packages/GRIB/MoOdx/src/message.jl:373\n",
       "[15] show(io::IO, message::Message) in GRIB at /home/roscar/.julia/packages/GRIB/MoOdx/src/message.jl:383\n",
       "[16] values(handle::Message) in GRIB at /home/roscar/.julia/packages/GRIB/MoOdx/src/messageiters.jl:93\n",
       "[17] clone(handle::Message) in GRIB at /home/roscar/.julia/packages/GRIB/MoOdx/src/message.jl:314\n",
       "[18] data(handle::Message) in GRIB at /home/roscar/.julia/packages/GRIB/MoOdx/src/message.jl:343\n",
       "[19] destroy(handle::Message) in GRIB at /home/roscar/.julia/packages/GRIB/MoOdx/src/message.jl:364\n",
       "[20] eachpoint(handle::Message) in GRIB at /home/roscar/.julia/packages/GRIB/MoOdx/src/messageiters.jl:126\n",
       "[21] find(near::Nearest, handle::Message, inlon, inlat) in GRIB at /home/roscar/.julia/packages/GRIB/MoOdx/src/nearest.jl:62\n",
       "[22] findmultiple(handle::Message, inlons::Array{Float64,1}, inlats::Array{Float64,1}) in GRIB at /home/roscar/.julia/packages/GRIB/MoOdx/src/nearest.jl:96\n",
       "[23] getbytes(message::Message) in GRIB at /home/roscar/.julia/packages/GRIB/MoOdx/src/message.jl:90\n",
       "[24] maskedvalues(msg::Message) in GRIB at /home/roscar/.julia/packages/GRIB/MoOdx/src/message.jl:140\n",
       "[25] missingvalue(msg::Message) in GRIB at /home/roscar/.julia/packages/GRIB/MoOdx/src/message.jl:127\n",
       "[26] writemessage(handle::Message, filename::AbstractString) in GRIB at /home/roscar/.julia/packages/GRIB/MoOdx/src/message.jl:107"
      ]
     },
     "execution_count": 6,
     "metadata": {},
     "output_type": "execute_result"
    }
   ],
   "source": [
    "methodswith(Message)"
   ]
  },
  {
   "cell_type": "code",
   "execution_count": 7,
   "metadata": {},
   "outputs": [
    {
     "data": {
      "text/plain": [
       "([0.0 0.0 … 0.0 0.0; 3.0 3.0 … 3.0 3.0; … ; 354.0 354.0 … 354.0 354.0; 357.0 357.0 … 357.0 357.0], [90.0 87.0 … -87.0 -90.0; 90.0 87.0 … -87.0 -90.0; … ; 90.0 87.0 … -87.0 -90.0; 90.0 87.0 … -87.0 -90.0], [51169.703125 51202.453125 … 50951.703125 50866.453125; 51169.703125 51213.703125 … 50965.203125 50866.453125; … ; 51169.703125 51178.453125 … 50924.453125 50866.453125; 51169.703125 51190.953125 … 50938.203125 50866.453125])"
      ]
     },
     "execution_count": 7,
     "metadata": {},
     "output_type": "execute_result"
    }
   ],
   "source": [
    "d = data(m)"
   ]
  },
  {
   "cell_type": "code",
   "execution_count": 8,
   "metadata": {},
   "outputs": [
    {
     "name": "stdout",
     "output_type": "stream",
     "text": [
      "(120, 61), (120, 61), (120, 61), "
     ]
    }
   ],
   "source": [
    "[print(\"$(size(v)), \") for v in d];"
   ]
  },
  {
   "cell_type": "code",
   "execution_count": 9,
   "metadata": {},
   "outputs": [
    {
     "data": {
      "text/plain": [
       "date     gridType       stepRange typeOfLevel       level shortName name\n",
       "20170101 regular_ll     0         isobaricInhPa     500   z         Geopotential"
      ]
     },
     "execution_count": 9,
     "metadata": {},
     "output_type": "execute_result"
    }
   ],
   "source": [
    "read(f, 5)[1]"
   ]
  },
  {
   "cell_type": "code",
   "execution_count": 10,
   "metadata": {},
   "outputs": [],
   "source": [
    "destroy(f)"
   ]
  },
  {
   "cell_type": "code",
   "execution_count": 11,
   "metadata": {},
   "outputs": [],
   "source": [
    "index = Index(\"./data/era5-levels-members.grib\", \"shortName\", \"typeOfLevel\", \"level\")\n",
    "\n",
    "select!(index, \"shortName\", \"z\")\n",
    "select!(index, \"typeOfLevel\", \"isobaricInhPa\")\n",
    "select!(index, \"level\", 500)"
   ]
  },
  {
   "cell_type": "code",
   "execution_count": 12,
   "metadata": {},
   "outputs": [
    {
     "data": {
      "text/html": [
       "10-element Array{Method,1}:<ul><li> eltype(f::<b>Index</b>) in GRIB at <a href=\"file:///home/roscar/.julia/packages/GRIB/MoOdx/src/index.jl\" target=\"_blank\">/home/roscar/.julia/packages/GRIB/MoOdx/src/index.jl:120</a><li> iterate(f::<b>Index</b>) in GRIB at <a href=\"file:///home/roscar/.julia/packages/GRIB/MoOdx/src/index.jl\" target=\"_blank\">/home/roscar/.julia/packages/GRIB/MoOdx/src/index.jl:112</a><li> iterate(f::<b>Index</b>, state) in GRIB at <a href=\"file:///home/roscar/.julia/packages/GRIB/MoOdx/src/index.jl\" target=\"_blank\">/home/roscar/.julia/packages/GRIB/MoOdx/src/index.jl:112</a><li> show(io::<b>IO</b>, mime::<b>MIME{Symbol(\"text/plain\")}</b>, index::<b>Index</b>) in GRIB at <a href=\"file:///home/roscar/.julia/packages/GRIB/MoOdx/src/index.jl\" target=\"_blank\">/home/roscar/.julia/packages/GRIB/MoOdx/src/index.jl:129</a><li> addfile!(index::<b>Index</b>, filename::<b>AbstractString</b>) in GRIB at <a href=\"file:///home/roscar/.julia/packages/GRIB/MoOdx/src/index.jl\" target=\"_blank\">/home/roscar/.julia/packages/GRIB/MoOdx/src/index.jl:55</a><li> destroy(idx::<b>Index</b>) in GRIB at <a href=\"file:///home/roscar/.julia/packages/GRIB/MoOdx/src/index.jl\" target=\"_blank\">/home/roscar/.julia/packages/GRIB/MoOdx/src/index.jl:124</a><li> keycount(index::<b>Index</b>, key::<b>AbstractString</b>) in GRIB at <a href=\"file:///home/roscar/.julia/packages/GRIB/MoOdx/src/index.jl\" target=\"_blank\">/home/roscar/.julia/packages/GRIB/MoOdx/src/index.jl:65</a><li> select!(index::<b>Index</b>, key::<b>AbstractString</b>, value::<b>AbstractString</b>) in GRIB at <a href=\"file:///home/roscar/.julia/packages/GRIB/MoOdx/src/index.jl\" target=\"_blank\">/home/roscar/.julia/packages/GRIB/MoOdx/src/index.jl:93</a><li> select!(index::<b>Index</b>, key::<b>AbstractString</b>, value::<b>AbstractFloat</b>) in GRIB at <a href=\"file:///home/roscar/.julia/packages/GRIB/MoOdx/src/index.jl\" target=\"_blank\">/home/roscar/.julia/packages/GRIB/MoOdx/src/index.jl:99</a><li> select!(index::<b>Index</b>, key::<b>AbstractString</b>, value::<b>Integer</b>) in GRIB at <a href=\"file:///home/roscar/.julia/packages/GRIB/MoOdx/src/index.jl\" target=\"_blank\">/home/roscar/.julia/packages/GRIB/MoOdx/src/index.jl:105</a></ul>"
      ],
      "text/plain": [
       "[1] eltype(f::Index) in GRIB at /home/roscar/.julia/packages/GRIB/MoOdx/src/index.jl:120\n",
       "[2] iterate(f::Index) in GRIB at /home/roscar/.julia/packages/GRIB/MoOdx/src/index.jl:112\n",
       "[3] iterate(f::Index, state) in GRIB at /home/roscar/.julia/packages/GRIB/MoOdx/src/index.jl:112\n",
       "[4] show(io::IO, mime::MIME{Symbol(\"text/plain\")}, index::Index) in GRIB at /home/roscar/.julia/packages/GRIB/MoOdx/src/index.jl:129\n",
       "[5] addfile!(index::Index, filename::AbstractString) in GRIB at /home/roscar/.julia/packages/GRIB/MoOdx/src/index.jl:55\n",
       "[6] destroy(idx::Index) in GRIB at /home/roscar/.julia/packages/GRIB/MoOdx/src/index.jl:124\n",
       "[7] keycount(index::Index, key::AbstractString) in GRIB at /home/roscar/.julia/packages/GRIB/MoOdx/src/index.jl:65\n",
       "[8] select!(index::Index, key::AbstractString, value::AbstractString) in GRIB at /home/roscar/.julia/packages/GRIB/MoOdx/src/index.jl:93\n",
       "[9] select!(index::Index, key::AbstractString, value::AbstractFloat) in GRIB at /home/roscar/.julia/packages/GRIB/MoOdx/src/index.jl:99\n",
       "[10] select!(index::Index, key::AbstractString, value::Integer) in GRIB at /home/roscar/.julia/packages/GRIB/MoOdx/src/index.jl:105"
      ]
     },
     "execution_count": 12,
     "metadata": {},
     "output_type": "execute_result"
    }
   ],
   "source": [
    "methodswith(Index)"
   ]
  },
  {
   "cell_type": "markdown",
   "metadata": {},
   "source": [
    "Quite neat, may be able to build on top of this package instead of creating an interface to ecCodes from scratch."
   ]
  },
  {
   "cell_type": "markdown",
   "metadata": {},
   "source": [
    "## GDAL.jl\n",
    "\n",
    "https://github.com/JuliaGeo/GDAL.jl\n",
    "\n",
    "> Julia wrapper for GDAL - Geospatial Data Abstraction Library. This package is a binding to the C API of GDAL/OGR. It provides only a C style usage, where resources must be closed manually, and datasets are pointers. Note: this also means that before being able to use any drivers (for input/output of different formats), they must be registered first using GDAL.gdalallregister()."
   ]
  },
  {
   "cell_type": "markdown",
   "metadata": {},
   "source": [
    "## ArchGDAL.jl\n",
    "\n",
    "https://github.com/yeesian/ArchGDAL.jl\n",
    "\n",
    "> GDAL is a translator library for raster and vector geospatial data formats that is released under an X/MIT license by the Open Source Geospatial Foundation. As a library, it presents an abstract data model to drivers for various raster and vector formats.\n",
    "> \n",
    "> This package aims to be a complete solution for working with GDAL in Julia, similar in scope to the SWIG bindings for Python. It builds on top of GDAL.jl, and provides a high level API for GDAL, espousing the following principles.\n",
    "\n",
    "Adds some more user-friendly features on top of GDAL.jl, but overall is still quite low level and basically just binds the C API."
   ]
  },
  {
   "cell_type": "markdown",
   "metadata": {},
   "source": [
    "## ICOADSDictionary.jl\n",
    "\n",
    "https://github.com/JuliaAtmosOcean/ICOADSDict.jl\n",
    "\n",
    "> The International Comprehensive Ocean-Atmosphere Data Set (ICOADS) is a compilation of the world’s in situ surface marine observations and represents a culmination of efforts to digitize, assemble, and reconcile information collected over the years by many countries. This package returns a dictionary of symbols and alphanumeric values from an ICOADS IMMA file.\n",
    "\n",
    "Not as related as I expected at first"
   ]
  }
 ],
 "metadata": {
  "kernelspec": {
   "display_name": "Julia 1.2.0",
   "language": "julia",
   "name": "julia-1.2"
  },
  "language_info": {
   "file_extension": ".jl",
   "mimetype": "application/julia",
   "name": "julia",
   "version": "1.2.0"
  }
 },
 "nbformat": 4,
 "nbformat_minor": 4
}
